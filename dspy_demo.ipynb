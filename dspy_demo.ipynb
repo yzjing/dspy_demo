{
 "cells": [
  {
   "cell_type": "code",
   "execution_count": 1,
   "id": "161da5e6-a344-4574-a849-48e930e36d9d",
   "metadata": {},
   "outputs": [],
   "source": [
    "import pandas as pd\n",
    "import dspy\n",
    "from sklearn.model_selection import train_test_split\n",
    "from dspy.evaluate import SemanticF1\n",
    "import os"
   ]
  },
  {
   "cell_type": "code",
   "execution_count": 2,
   "id": "f7e3c407-b7d5-493b-913c-8c1a616d2a67",
   "metadata": {},
   "outputs": [],
   "source": [
    "from utils.utils import load_data\n",
    "from eval.evaluation import run_evaluation"
   ]
  },
  {
   "cell_type": "markdown",
   "id": "5e937ea4-673d-4e5d-9d02-28eed9599e42",
   "metadata": {},
   "source": [
    "## configure DSPy"
   ]
  },
  {
   "cell_type": "code",
   "execution_count": 3,
   "id": "f1d05b3b-51ec-447c-ae94-ee20a4fc1de5",
   "metadata": {},
   "outputs": [],
   "source": [
    "OPENAI_API_KEY = os.environ[\"OPENAI_API_KEY\"]"
   ]
  },
  {
   "cell_type": "code",
   "execution_count": 4,
   "id": "e69fdeff-70d8-4ecf-8835-75f1be685fc3",
   "metadata": {},
   "outputs": [],
   "source": [
    "lm = dspy.LM('openai/gpt-4o')\n",
    "dspy.configure(lm=lm)"
   ]
  },
  {
   "cell_type": "markdown",
   "id": "44df819e-24ed-4b71-8ccc-37fd35e4f60e",
   "metadata": {},
   "source": [
    "## Load some podcast data"
   ]
  },
  {
   "cell_type": "code",
   "execution_count": 5,
   "id": "906e83bc-46ef-4069-815a-cc6c04e0571d",
   "metadata": {},
   "outputs": [],
   "source": [
    "df = load_data(truncate_transcripts=True)"
   ]
  },
  {
   "cell_type": "code",
   "execution_count": 6,
   "id": "7f2621e5-9ab4-4078-af35-91a286396ca4",
   "metadata": {},
   "outputs": [
    {
     "data": {
      "text/plain": [
       "80"
      ]
     },
     "execution_count": 6,
     "metadata": {},
     "output_type": "execute_result"
    }
   ],
   "source": [
    "len(df)"
   ]
  },
  {
   "cell_type": "code",
   "execution_count": 7,
   "id": "c9486c50-c43e-4358-a553-afcea874b318",
   "metadata": {},
   "outputs": [
    {
     "data": {
      "text/html": [
       "<div>\n",
       "<style scoped>\n",
       "    .dataframe tbody tr th:only-of-type {\n",
       "        vertical-align: middle;\n",
       "    }\n",
       "\n",
       "    .dataframe tbody tr th {\n",
       "        vertical-align: top;\n",
       "    }\n",
       "\n",
       "    .dataframe thead th {\n",
       "        text-align: right;\n",
       "    }\n",
       "</style>\n",
       "<table border=\"1\" class=\"dataframe\">\n",
       "  <thead>\n",
       "    <tr style=\"text-align: right;\">\n",
       "      <th></th>\n",
       "      <th>post_url</th>\n",
       "      <th>post_title</th>\n",
       "      <th>series_number</th>\n",
       "      <th>blog_date</th>\n",
       "      <th>blog_title</th>\n",
       "      <th>file_name</th>\n",
       "      <th>has_transcript</th>\n",
       "      <th>transcript</th>\n",
       "      <th>question</th>\n",
       "      <th>human_answer</th>\n",
       "    </tr>\n",
       "  </thead>\n",
       "  <tbody>\n",
       "    <tr>\n",
       "      <th>0</th>\n",
       "      <td>https://www.acquired.fm/episodes/costco</td>\n",
       "      <td>Costco</td>\n",
       "      <td>Season 13, Episode 2</td>\n",
       "      <td>August 20, 2023</td>\n",
       "      <td>The Complete History &amp; Strategy of Costco</td>\n",
       "      <td>costco</td>\n",
       "      <td>True</td>\n",
       "      <td>Transcript:   (disclaimer: may contain uninten...</td>\n",
       "      <td>How many hot dogs does Costco currently sell p...</td>\n",
       "      <td>130 million</td>\n",
       "    </tr>\n",
       "    <tr>\n",
       "      <th>1</th>\n",
       "      <td>https://www.acquired.fm/episodes/costco</td>\n",
       "      <td>Costco</td>\n",
       "      <td>Season 13, Episode 2</td>\n",
       "      <td>August 20, 2023</td>\n",
       "      <td>The Complete History &amp; Strategy of Costco</td>\n",
       "      <td>costco</td>\n",
       "      <td>True</td>\n",
       "      <td>Transcript:   (disclaimer: may contain uninten...</td>\n",
       "      <td>What store was created as \"the price club of h...</td>\n",
       "      <td>Home Depot</td>\n",
       "    </tr>\n",
       "  </tbody>\n",
       "</table>\n",
       "</div>"
      ],
      "text/plain": [
       "                                  post_url post_title         series_number  \\\n",
       "0  https://www.acquired.fm/episodes/costco     Costco  Season 13, Episode 2   \n",
       "1  https://www.acquired.fm/episodes/costco     Costco  Season 13, Episode 2   \n",
       "\n",
       "         blog_date                                 blog_title file_name  \\\n",
       "0  August 20, 2023  The Complete History & Strategy of Costco    costco   \n",
       "1  August 20, 2023  The Complete History & Strategy of Costco    costco   \n",
       "\n",
       "   has_transcript                                         transcript  \\\n",
       "0            True  Transcript:   (disclaimer: may contain uninten...   \n",
       "1            True  Transcript:   (disclaimer: may contain uninten...   \n",
       "\n",
       "                                            question human_answer  \n",
       "0  How many hot dogs does Costco currently sell p...  130 million  \n",
       "1  What store was created as \"the price club of h...   Home Depot  "
      ]
     },
     "execution_count": 7,
     "metadata": {},
     "output_type": "execute_result"
    }
   ],
   "source": [
    "df.head(2)"
   ]
  },
  {
   "cell_type": "code",
   "execution_count": 8,
   "id": "ef280be7-1aca-4681-b505-57346dd32e11",
   "metadata": {},
   "outputs": [],
   "source": [
    "data = []\n",
    "for idx, row in df.iterrows():\n",
    "    example = dspy.Example(question=row['question'], \n",
    "                           response=row['human_answer'], \n",
    "                           context=row['transcript']).with_inputs('question', 'context')\n",
    "    data.append(example)"
   ]
  },
  {
   "cell_type": "code",
   "execution_count": 9,
   "id": "f7c6aa59-9567-4490-8c7d-85640b226db4",
   "metadata": {},
   "outputs": [
    {
     "data": {
      "text/plain": [
       "['question', 'response', 'context']"
      ]
     },
     "execution_count": 9,
     "metadata": {},
     "output_type": "execute_result"
    }
   ],
   "source": [
    "data[0].keys()"
   ]
  },
  {
   "cell_type": "code",
   "execution_count": 10,
   "id": "6e0dfdbe-d828-4c7a-a26a-fc74262e6d24",
   "metadata": {},
   "outputs": [],
   "source": [
    "train, val_ = train_test_split(data, test_size = 0.8, random_state=42)\n",
    "val, test = train_test_split(data, test_size = 0.5, random_state=42)"
   ]
  },
  {
   "cell_type": "code",
   "execution_count": 11,
   "id": "f6903048-87b9-44a9-8d1d-69b995038095",
   "metadata": {},
   "outputs": [
    {
     "data": {
      "text/plain": [
       "(16, 40, 40)"
      ]
     },
     "execution_count": 11,
     "metadata": {},
     "output_type": "execute_result"
    }
   ],
   "source": [
    "len(train), len(val), len(test)"
   ]
  },
  {
   "cell_type": "markdown",
   "id": "2ac02a2e-86fb-4c47-ae22-1b6ff77db3b5",
   "metadata": {},
   "source": [
    "## Basic question answering without RAG "
   ]
  },
  {
   "cell_type": "code",
   "execution_count": 12,
   "id": "13418f5f-f0ee-418c-b247-5af10ef7c4b6",
   "metadata": {},
   "outputs": [],
   "source": [
    "cot = dspy.ChainOfThought('question -> response')"
   ]
  },
  {
   "cell_type": "code",
   "execution_count": 13,
   "id": "17378597-a6c2-40a6-beb3-05a7e89f11c8",
   "metadata": {},
   "outputs": [
    {
     "name": "stdout",
     "output_type": "stream",
     "text": [
      "What was Peloton original price\n"
     ]
    }
   ],
   "source": [
    "print(val[14]['question']) # a question that's hard to answer without source"
   ]
  },
  {
   "cell_type": "code",
   "execution_count": 14,
   "id": "e9495a97-de41-4b14-b51b-fcb0a5a4320d",
   "metadata": {},
   "outputs": [
    {
     "name": "stdout",
     "output_type": "stream",
     "text": [
      "Prediction(\n",
      "    reasoning='To determine the original price of Peloton, we need to consider the context in which \"original price\" is being asked. This could refer to the initial public offering (IPO) price of Peloton\\'s stock when it first became publicly traded, or it could refer to the original price of Peloton\\'s flagship product, the Peloton Bike, when it was first released to the market. The IPO price is a specific financial event, while the product price is related to consumer sales.',\n",
      "    response=\"Peloton's initial public offering (IPO) price was $29 per share when it went public on September 26, 2019. If you are referring to the original price of the Peloton Bike, it was initially priced at around $2,245 when it was first introduced to the market.\"\n",
      ")\n"
     ]
    }
   ],
   "source": [
    "pred = cot(**val[14].inputs())\n",
    "print(pred)"
   ]
  },
  {
   "cell_type": "markdown",
   "id": "d3cf78fd-a035-428b-8f4c-d53a5c32a52b",
   "metadata": {},
   "source": [
    "### evaluation using semantic F1"
   ]
  },
  {
   "cell_type": "code",
   "execution_count": 15,
   "id": "8ec791c6-eeb1-40ef-9462-080611a1fe9b",
   "metadata": {},
   "outputs": [],
   "source": [
    "metric = SemanticF1(decompositional=True)"
   ]
  },
  {
   "cell_type": "code",
   "execution_count": 16,
   "id": "97973cde-9d64-4274-981a-25659a4a96c6",
   "metadata": {},
   "outputs": [
    {
     "name": "stdout",
     "output_type": "stream",
     "text": [
      "Average Metric: 9.65 / 40 (24.1%): 100%|█████████████████████████████████████████████████████████████████████████████████████████████████| 40/40 [00:00<00:00, 452.80it/s]"
     ]
    },
    {
     "name": "stderr",
     "output_type": "stream",
     "text": [
      "2025/03/26 21:23:31 INFO dspy.evaluate.evaluate: Average Metric: 9.650937950937951 / 40 (24.1%)\n"
     ]
    },
    {
     "name": "stdout",
     "output_type": "stream",
     "text": [
      "\n"
     ]
    },
    {
     "data": {
      "text/html": [
       "<div>\n",
       "<style scoped>\n",
       "    .dataframe tbody tr th:only-of-type {\n",
       "        vertical-align: middle;\n",
       "    }\n",
       "\n",
       "    .dataframe tbody tr th {\n",
       "        vertical-align: top;\n",
       "    }\n",
       "\n",
       "    .dataframe thead th {\n",
       "        text-align: right;\n",
       "    }\n",
       "</style>\n",
       "<table border=\"1\" class=\"dataframe\">\n",
       "  <thead>\n",
       "    <tr style=\"text-align: right;\">\n",
       "      <th></th>\n",
       "      <th>question</th>\n",
       "      <th>example_response</th>\n",
       "      <th>context</th>\n",
       "      <th>reasoning</th>\n",
       "      <th>pred_response</th>\n",
       "      <th>SemanticF1</th>\n",
       "    </tr>\n",
       "  </thead>\n",
       "  <tbody>\n",
       "    <tr>\n",
       "      <th>0</th>\n",
       "      <td>During high school year, which online security community Jan Koum ...</td>\n",
       "      <td>w00w00</td>\n",
       "      <td>Transcript: (disclaimer: may contain unintentionally confusing, in...</td>\n",
       "      <td>Jan Koum, the co-founder of WhatsApp, was involved in the online s...</td>\n",
       "      <td>During his high school years, Jan Koum was part of the online secu...</td>\n",
       "      <td>✔️ [1.000]</td>\n",
       "    </tr>\n",
       "    <tr>\n",
       "      <th>1</th>\n",
       "      <td>What is the difference between recurrent neural networks and convo...</td>\n",
       "      <td>The state of the art had evolved and RNN is sequential and has ver...</td>\n",
       "      <td>Transcript: (disclaimer: may contain unintentionally confusing, in...</td>\n",
       "      <td>Recurrent Neural Networks (RNNs) and Convolutional Neural Networks...</td>\n",
       "      <td>Recurrent Neural Networks (RNNs) and Convolutional Neural Networks...</td>\n",
       "      <td>✔️ [0.364]</td>\n",
       "    </tr>\n",
       "    <tr>\n",
       "      <th>2</th>\n",
       "      <td>What was the patent Heddy developed? Was it publicly available?</td>\n",
       "      <td>Hedy teams up with her new Hollywood neighbor, a music composer na...</td>\n",
       "      <td>Transcript: (disclaimer: may contain unintentionally confusing, in...</td>\n",
       "      <td>Hedy Lamarr, an actress and inventor, co-developed a patent for a ...</td>\n",
       "      <td>Hedy Lamarr developed a patent for a frequency-hopping spread spec...</td>\n",
       "      <td>✔️ [0.500]</td>\n",
       "    </tr>\n",
       "    <tr>\n",
       "      <th>3</th>\n",
       "      <td>Which was one of the first free email services?</td>\n",
       "      <td>Juno was one of the first free email services.</td>\n",
       "      <td>Transcript: (disclaimer: may contain unintentionally confusing, in...</td>\n",
       "      <td>In the mid-1990s, the internet was becoming more accessible to the...</td>\n",
       "      <td>One of the first free email services was Hotmail, which was launch...</td>\n",
       "      <td></td>\n",
       "    </tr>\n",
       "    <tr>\n",
       "      <th>4</th>\n",
       "      <td>Visa is the global sponsor of what?</td>\n",
       "      <td>Visa is the global sponsor of The Olympics</td>\n",
       "      <td>Transcript: (disclaimer: may contain unintentionally confusing, in...</td>\n",
       "      <td>Visa is a major global payments technology company that often spon...</td>\n",
       "      <td>Visa is the global sponsor of the Olympic Games and the FIFA World...</td>\n",
       "      <td>✔️ [0.667]</td>\n",
       "    </tr>\n",
       "  </tbody>\n",
       "</table>\n",
       "</div>"
      ],
      "text/plain": [
       "                                                                question  \\\n",
       "0  During high school year, which online security community Jan Koum ...   \n",
       "1  What is the difference between recurrent neural networks and convo...   \n",
       "2        What was the patent Heddy developed? Was it publicly available?   \n",
       "3                        Which was one of the first free email services?   \n",
       "4                                    Visa is the global sponsor of what?   \n",
       "\n",
       "                                                        example_response  \\\n",
       "0                                                                 w00w00   \n",
       "1  The state of the art had evolved and RNN is sequential and has ver...   \n",
       "2  Hedy teams up with her new Hollywood neighbor, a music composer na...   \n",
       "3                         Juno was one of the first free email services.   \n",
       "4                             Visa is the global sponsor of The Olympics   \n",
       "\n",
       "                                                                 context  \\\n",
       "0  Transcript: (disclaimer: may contain unintentionally confusing, in...   \n",
       "1  Transcript: (disclaimer: may contain unintentionally confusing, in...   \n",
       "2  Transcript: (disclaimer: may contain unintentionally confusing, in...   \n",
       "3  Transcript: (disclaimer: may contain unintentionally confusing, in...   \n",
       "4  Transcript: (disclaimer: may contain unintentionally confusing, in...   \n",
       "\n",
       "                                                               reasoning  \\\n",
       "0  Jan Koum, the co-founder of WhatsApp, was involved in the online s...   \n",
       "1  Recurrent Neural Networks (RNNs) and Convolutional Neural Networks...   \n",
       "2  Hedy Lamarr, an actress and inventor, co-developed a patent for a ...   \n",
       "3  In the mid-1990s, the internet was becoming more accessible to the...   \n",
       "4  Visa is a major global payments technology company that often spon...   \n",
       "\n",
       "                                                           pred_response  \\\n",
       "0  During his high school years, Jan Koum was part of the online secu...   \n",
       "1  Recurrent Neural Networks (RNNs) and Convolutional Neural Networks...   \n",
       "2  Hedy Lamarr developed a patent for a frequency-hopping spread spec...   \n",
       "3  One of the first free email services was Hotmail, which was launch...   \n",
       "4  Visa is the global sponsor of the Olympic Games and the FIFA World...   \n",
       "\n",
       "   SemanticF1  \n",
       "0  ✔️ [1.000]  \n",
       "1  ✔️ [0.364]  \n",
       "2  ✔️ [0.500]  \n",
       "3              \n",
       "4  ✔️ [0.667]  "
      ]
     },
     "metadata": {},
     "output_type": "display_data"
    },
    {
     "data": {
      "text/html": [
       "\n",
       "            <div style='\n",
       "                text-align: center;\n",
       "                font-size: 16px;\n",
       "                font-weight: bold;\n",
       "                color: #555;\n",
       "                margin: 10px 0;'>\n",
       "                ... 35 more rows not displayed ...\n",
       "            </div>\n",
       "            "
      ],
      "text/plain": [
       "<IPython.core.display.HTML object>"
      ]
     },
     "metadata": {},
     "output_type": "display_data"
    },
    {
     "data": {
      "text/plain": [
       "24.13"
      ]
     },
     "execution_count": 16,
     "metadata": {},
     "output_type": "execute_result"
    }
   ],
   "source": [
    "run_evaluation(val, metric, cot)"
   ]
  },
  {
   "cell_type": "markdown",
   "id": "9d3e3dc3-c193-43bb-8341-8ccf5f161369",
   "metadata": {},
   "source": [
    "## RAG using the transcript"
   ]
  },
  {
   "cell_type": "code",
   "execution_count": 17,
   "id": "bcbaf9f0-5f84-4dcf-9dad-a3e33f709338",
   "metadata": {},
   "outputs": [],
   "source": [
    "rag = dspy.ChainOfThought('context, question -> response')"
   ]
  },
  {
   "cell_type": "code",
   "execution_count": 18,
   "id": "93e753ec-577b-4e2d-a22d-35ad3462bcf8",
   "metadata": {},
   "outputs": [
    {
     "name": "stdout",
     "output_type": "stream",
     "text": [
      "Prediction(\n",
      "    reasoning=\"Peloton initially priced their bike at $1200 when they first tried to start selling it. However, they realized that at this price point, customers perceived the bike as lower quality. To address this perception and position the bike as a premium product, they raised the price to $2245. This price increase helped signal the bike's value and quality, aligning with the luxury and aspirational brand image they wanted to create.\",\n",
      "    response=\"Peloton's original price for their bike was $1200.\"\n",
      ")\n"
     ]
    }
   ],
   "source": [
    "pred = rag(**val[14].inputs())\n",
    "print(pred)"
   ]
  },
  {
   "cell_type": "code",
   "execution_count": 19,
   "id": "4005143e-87e6-48d8-bc6c-e40eccaaf2d5",
   "metadata": {},
   "outputs": [
    {
     "name": "stdout",
     "output_type": "stream",
     "text": [
      "Average Metric: 21.15 / 40 (52.9%): 100%|████████████████████████████████████████████████████████████████████████████████████████████████| 40/40 [00:00<00:00, 257.86it/s]"
     ]
    },
    {
     "name": "stderr",
     "output_type": "stream",
     "text": [
      "2025/03/26 21:23:51 INFO dspy.evaluate.evaluate: Average Metric: 21.14838991417939 / 40 (52.9%)\n"
     ]
    },
    {
     "name": "stdout",
     "output_type": "stream",
     "text": [
      "\n"
     ]
    },
    {
     "data": {
      "text/html": [
       "<div>\n",
       "<style scoped>\n",
       "    .dataframe tbody tr th:only-of-type {\n",
       "        vertical-align: middle;\n",
       "    }\n",
       "\n",
       "    .dataframe tbody tr th {\n",
       "        vertical-align: top;\n",
       "    }\n",
       "\n",
       "    .dataframe thead th {\n",
       "        text-align: right;\n",
       "    }\n",
       "</style>\n",
       "<table border=\"1\" class=\"dataframe\">\n",
       "  <thead>\n",
       "    <tr style=\"text-align: right;\">\n",
       "      <th></th>\n",
       "      <th>question</th>\n",
       "      <th>example_response</th>\n",
       "      <th>context</th>\n",
       "      <th>reasoning</th>\n",
       "      <th>pred_response</th>\n",
       "      <th>SemanticF1</th>\n",
       "    </tr>\n",
       "  </thead>\n",
       "  <tbody>\n",
       "    <tr>\n",
       "      <th>0</th>\n",
       "      <td>During high school year, which online security community Jan Koum ...</td>\n",
       "      <td>w00w00</td>\n",
       "      <td>Transcript: (disclaimer: may contain unintentionally confusing, in...</td>\n",
       "      <td>In the transcript, it is mentioned that during his high school yea...</td>\n",
       "      <td>During his high school years, Jan Koum was part of an online hacke...</td>\n",
       "      <td>✔️ [1.000]</td>\n",
       "    </tr>\n",
       "    <tr>\n",
       "      <th>1</th>\n",
       "      <td>What is the difference between recurrent neural networks and convo...</td>\n",
       "      <td>The state of the art had evolved and RNN is sequential and has ver...</td>\n",
       "      <td>Transcript: (disclaimer: may contain unintentionally confusing, in...</td>\n",
       "      <td>Recurrent Neural Networks (RNNs) and Convolutional Neural Networks...</td>\n",
       "      <td>Recurrent Neural Networks (RNNs) are designed to handle sequential...</td>\n",
       "      <td>✔️ [0.286]</td>\n",
       "    </tr>\n",
       "    <tr>\n",
       "      <th>2</th>\n",
       "      <td>What was the patent Heddy developed? Was it publicly available?</td>\n",
       "      <td>Hedy teams up with her new Hollywood neighbor, a music composer na...</td>\n",
       "      <td>Transcript: (disclaimer: may contain unintentionally confusing, in...</td>\n",
       "      <td>Hedy Lamarr, along with George Antheil, developed a patent for a f...</td>\n",
       "      <td>Hedy Lamarr developed a patent for a frequency hopping spread spec...</td>\n",
       "      <td>✔️ [0.667]</td>\n",
       "    </tr>\n",
       "    <tr>\n",
       "      <th>3</th>\n",
       "      <td>Which was one of the first free email services?</td>\n",
       "      <td>Juno was one of the first free email services.</td>\n",
       "      <td>Transcript: (disclaimer: may contain unintentionally confusing, in...</td>\n",
       "      <td>In the context provided, it is mentioned that D. E. Shaw, the firm...</td>\n",
       "      <td>Juno was one of the first free email services.</td>\n",
       "      <td>✔️ [1.000]</td>\n",
       "    </tr>\n",
       "    <tr>\n",
       "      <th>4</th>\n",
       "      <td>Visa is the global sponsor of what?</td>\n",
       "      <td>Visa is the global sponsor of The Olympics</td>\n",
       "      <td>Transcript: (disclaimer: may contain unintentionally confusing, in...</td>\n",
       "      <td>Visa is a major global company with significant involvement in int...</td>\n",
       "      <td>Visa is the global sponsor of the Olympic Games and FIFA, includin...</td>\n",
       "      <td>✔️ [0.667]</td>\n",
       "    </tr>\n",
       "  </tbody>\n",
       "</table>\n",
       "</div>"
      ],
      "text/plain": [
       "                                                                question  \\\n",
       "0  During high school year, which online security community Jan Koum ...   \n",
       "1  What is the difference between recurrent neural networks and convo...   \n",
       "2        What was the patent Heddy developed? Was it publicly available?   \n",
       "3                        Which was one of the first free email services?   \n",
       "4                                    Visa is the global sponsor of what?   \n",
       "\n",
       "                                                        example_response  \\\n",
       "0                                                                 w00w00   \n",
       "1  The state of the art had evolved and RNN is sequential and has ver...   \n",
       "2  Hedy teams up with her new Hollywood neighbor, a music composer na...   \n",
       "3                         Juno was one of the first free email services.   \n",
       "4                             Visa is the global sponsor of The Olympics   \n",
       "\n",
       "                                                                 context  \\\n",
       "0  Transcript: (disclaimer: may contain unintentionally confusing, in...   \n",
       "1  Transcript: (disclaimer: may contain unintentionally confusing, in...   \n",
       "2  Transcript: (disclaimer: may contain unintentionally confusing, in...   \n",
       "3  Transcript: (disclaimer: may contain unintentionally confusing, in...   \n",
       "4  Transcript: (disclaimer: may contain unintentionally confusing, in...   \n",
       "\n",
       "                                                               reasoning  \\\n",
       "0  In the transcript, it is mentioned that during his high school yea...   \n",
       "1  Recurrent Neural Networks (RNNs) and Convolutional Neural Networks...   \n",
       "2  Hedy Lamarr, along with George Antheil, developed a patent for a f...   \n",
       "3  In the context provided, it is mentioned that D. E. Shaw, the firm...   \n",
       "4  Visa is a major global company with significant involvement in int...   \n",
       "\n",
       "                                                           pred_response  \\\n",
       "0  During his high school years, Jan Koum was part of an online hacke...   \n",
       "1  Recurrent Neural Networks (RNNs) are designed to handle sequential...   \n",
       "2  Hedy Lamarr developed a patent for a frequency hopping spread spec...   \n",
       "3                         Juno was one of the first free email services.   \n",
       "4  Visa is the global sponsor of the Olympic Games and FIFA, includin...   \n",
       "\n",
       "   SemanticF1  \n",
       "0  ✔️ [1.000]  \n",
       "1  ✔️ [0.286]  \n",
       "2  ✔️ [0.667]  \n",
       "3  ✔️ [1.000]  \n",
       "4  ✔️ [0.667]  "
      ]
     },
     "metadata": {},
     "output_type": "display_data"
    },
    {
     "data": {
      "text/html": [
       "\n",
       "            <div style='\n",
       "                text-align: center;\n",
       "                font-size: 16px;\n",
       "                font-weight: bold;\n",
       "                color: #555;\n",
       "                margin: 10px 0;'>\n",
       "                ... 35 more rows not displayed ...\n",
       "            </div>\n",
       "            "
      ],
      "text/plain": [
       "<IPython.core.display.HTML object>"
      ]
     },
     "metadata": {},
     "output_type": "display_data"
    },
    {
     "data": {
      "text/plain": [
       "52.87"
      ]
     },
     "execution_count": 19,
     "metadata": {},
     "output_type": "execute_result"
    }
   ],
   "source": [
    "run_evaluation(val, metric, rag)"
   ]
  },
  {
   "cell_type": "markdown",
   "id": "91ce5634-d360-4607-bcd1-70bcde976cdb",
   "metadata": {},
   "source": [
    "## Optimize the RAG using mipro v2"
   ]
  },
  {
   "cell_type": "code",
   "execution_count": 20,
   "id": "1f95f914-63d0-4d17-a1d1-0ff09b0dc6fd",
   "metadata": {},
   "outputs": [],
   "source": [
    "class RAG(dspy.Module):\n",
    "    def __init__(self):\n",
    "        self.rag = dspy.ChainOfThought('context, question -> response')\n",
    "\n",
    "    def forward(self, question, context):\n",
    "        return self.rag(question=question, context=context)"
   ]
  },
  {
   "cell_type": "code",
   "execution_count": 21,
   "id": "c109b284-ddcf-48bb-ac51-decc9a0cf8dc",
   "metadata": {},
   "outputs": [],
   "source": [
    "rag_pipeline = RAG()"
   ]
  },
  {
   "cell_type": "code",
   "execution_count": 22,
   "id": "2fc824ff-b2f0-4dda-bb5f-44e424727a77",
   "metadata": {},
   "outputs": [
    {
     "data": {
      "text/plain": [
       "Prediction(\n",
       "    reasoning=\"Peloton initially priced their bike at $1200 when they first tried to start selling it. However, they realized that at this price point, customers perceived the bike as lower quality. To address this perception and position the bike as a premium product, they raised the price to $2245. This price increase helped signal the bike's value and quality, aligning with the luxury and aspirational brand image they wanted to create.\",\n",
       "    response=\"Peloton's original price for their bike was $1200.\"\n",
       ")"
      ]
     },
     "execution_count": 22,
     "metadata": {},
     "output_type": "execute_result"
    }
   ],
   "source": [
    "rag_pipeline(val[14]['question'], val[14]['context'])"
   ]
  },
  {
   "cell_type": "code",
   "execution_count": 23,
   "id": "301b1341-2ed5-4ee8-9b96-e3fb5dbbca55",
   "metadata": {},
   "outputs": [
    {
     "name": "stderr",
     "output_type": "stream",
     "text": [
      "2025/03/26 21:24:24 INFO dspy.teleprompt.mipro_optimizer_v2: \n",
      "RUNNING WITH THE FOLLOWING LIGHT AUTO RUN SETTINGS:\n",
      "num_trials: 7\n",
      "minibatch: False\n",
      "num_candidates: 5\n",
      "valset size: 12\n",
      "\n",
      "2025/03/26 21:24:24 INFO dspy.teleprompt.mipro_optimizer_v2: \n",
      "==> STEP 1: BOOTSTRAP FEWSHOT EXAMPLES <==\n",
      "2025/03/26 21:24:24 INFO dspy.teleprompt.mipro_optimizer_v2: These will be used as few-shot example candidates for our program and for creating instructions.\n",
      "\n",
      "2025/03/26 21:24:24 INFO dspy.teleprompt.mipro_optimizer_v2: Bootstrapping N=5 sets of demonstrations...\n"
     ]
    },
    {
     "name": "stdout",
     "output_type": "stream",
     "text": [
      "Bootstrapping set 1/5\n",
      "Bootstrapping set 2/5\n",
      "Bootstrapping set 3/5\n"
     ]
    },
    {
     "name": "stderr",
     "output_type": "stream",
     "text": [
      "100%|███████████████████████████████████████████████████████████████████████████████████████████████████████████████████████████████████████| 4/4 [00:00<00:00,  7.10it/s]\n"
     ]
    },
    {
     "name": "stdout",
     "output_type": "stream",
     "text": [
      "Bootstrapped 4 full traces after 3 examples for up to 1 rounds, amounting to 4 attempts.\n",
      "Bootstrapping set 4/5\n"
     ]
    },
    {
     "name": "stderr",
     "output_type": "stream",
     "text": [
      "100%|██████████████████████████████████████████████████████████████████████████████████████████████████████████████████████████████████████| 4/4 [00:00<00:00, 254.81it/s]\n"
     ]
    },
    {
     "name": "stdout",
     "output_type": "stream",
     "text": [
      "Bootstrapped 4 full traces after 3 examples for up to 1 rounds, amounting to 4 attempts.\n",
      "Bootstrapping set 5/5\n"
     ]
    },
    {
     "name": "stderr",
     "output_type": "stream",
     "text": [
      "100%|██████████████████████████████████████████████████████████████████████████████████████████████████████████████████████████████████████| 4/4 [00:00<00:00, 383.95it/s]\n",
      "2025/03/26 21:24:24 INFO dspy.teleprompt.mipro_optimizer_v2: \n",
      "==> STEP 2: PROPOSE INSTRUCTION CANDIDATES <==\n",
      "2025/03/26 21:24:24 INFO dspy.teleprompt.mipro_optimizer_v2: We will use the few-shot examples from the previous step, a generated dataset summary, a summary of the program code, and a randomly selected prompting tip to propose instructions.\n",
      "2025/03/26 21:24:24 INFO dspy.teleprompt.mipro_optimizer_v2: \n",
      "Proposing instructions...\n",
      "\n",
      "2025/03/26 21:24:24 INFO dspy.teleprompt.mipro_optimizer_v2: Proposed Instructions for Predictor 0:\n",
      "\n",
      "2025/03/26 21:24:24 INFO dspy.teleprompt.mipro_optimizer_v2: 0: Given the fields `context`, `question`, produce the fields `response`.\n",
      "\n",
      "2025/03/26 21:24:24 INFO dspy.teleprompt.mipro_optimizer_v2: 1: You are provided with a context and a question. Use the context to derive a detailed reasoning process and generate a coherent response to the question. Consider the specific details and relationships within the context to ensure an accurate and comprehensive answer.\n",
      "\n",
      "2025/03/26 21:24:24 INFO dspy.teleprompt.mipro_optimizer_v2: 2: You are tasked with a high-stakes scenario where you must assist a team of researchers who are extracting critical information from lengthy narrative-style documents. Your role is to generate accurate and concise responses based on the given context and questions. Ensure that your responses are well-founded and logically connected to the context provided. The success of the research team depends on your ability to provide reliable and precise information. Given the fields `context` and `question`, produce the field `response`.\n",
      "\n",
      "2025/03/26 21:24:24 INFO dspy.teleprompt.mipro_optimizer_v2: 3: Imagine you are tasked with extracting crucial information from a lengthy and complex document to assist a team in making a high-stakes decision. Your role is to carefully analyze the given 'context' and 'question' to generate a precise and well-reasoned 'response'. This response will be pivotal in guiding the team's decision-making process, so accuracy and clarity are paramount. Approach this task with a methodical breakdown of the context, ensuring that every step in your reasoning is logical and leads to a comprehensive understanding of the information needed to answer the question effectively.\n",
      "\n",
      "2025/03/26 21:24:24 INFO dspy.teleprompt.mipro_optimizer_v2: 4: You are a language model tasked with extracting specific information from a given context. Your role is to read the provided context carefully and accurately answer the question based on the details found within the text. For each task, ensure that your response includes a step-by-step reasoning process that leads to the final answer, demonstrating your understanding of the context and the logic applied to reach the conclusion.\n",
      "\n",
      "2025/03/26 21:24:24 INFO dspy.teleprompt.mipro_optimizer_v2: \n",
      "\n",
      "2025/03/26 21:24:24 INFO dspy.teleprompt.mipro_optimizer_v2: ==> STEP 3: FINDING OPTIMAL PROMPT PARAMETERS <==\n",
      "2025/03/26 21:24:24 INFO dspy.teleprompt.mipro_optimizer_v2: We will evaluate the program over a series of trials with different combinations of instructions and few-shot examples to find the optimal combination using Bayesian Optimization.\n",
      "\n",
      "2025/03/26 21:24:24 INFO dspy.teleprompt.mipro_optimizer_v2: == Trial 1 / 7 - Full Evaluation of Default Program ==\n"
     ]
    },
    {
     "name": "stdout",
     "output_type": "stream",
     "text": [
      "Bootstrapped 4 full traces after 3 examples for up to 1 rounds, amounting to 4 attempts.\n",
      "Average Metric: 7.01 / 12 (58.4%): 100%|████████████████████████████████████████████████████████████████████████████████████████████████| 12/12 [00:00<00:00, 4316.61it/s]"
     ]
    },
    {
     "name": "stderr",
     "output_type": "stream",
     "text": [
      "2025/03/26 21:24:24 INFO dspy.evaluate.evaluate: Average Metric: 7.007142857142857 / 12 (58.4%)\n",
      "2025/03/26 21:24:24 INFO dspy.teleprompt.mipro_optimizer_v2: Default program score: 58.39\n",
      "\n",
      "/opt/anaconda3/envs/py310/lib/python3.10/site-packages/optuna/_experimental.py:31: ExperimentalWarning: Argument ``multivariate`` is an experimental feature. The interface can change in the future.\n",
      "  warnings.warn(\n",
      "2025/03/26 21:24:24 INFO dspy.teleprompt.mipro_optimizer_v2: ===== Trial 2 / 7 =====\n"
     ]
    },
    {
     "name": "stdout",
     "output_type": "stream",
     "text": [
      "\n",
      "Average Metric: 9.13 / 12 (76.1%): 100%|█████████████████████████████████████████████████████████████████████████████████████████████████| 12/12 [00:00<00:00, 477.25it/s]"
     ]
    },
    {
     "name": "stderr",
     "output_type": "stream",
     "text": [
      "2025/03/26 21:24:24 INFO dspy.evaluate.evaluate: Average Metric: 9.133333333333333 / 12 (76.1%)\n",
      "2025/03/26 21:24:24 INFO dspy.teleprompt.mipro_optimizer_v2: \u001b[92mBest full score so far!\u001b[0m Score: 76.11\n",
      "2025/03/26 21:24:24 INFO dspy.teleprompt.mipro_optimizer_v2: Score: 76.11 with parameters ['Predictor 0: Instruction 1', 'Predictor 0: Few-Shot Set 1'].\n",
      "2025/03/26 21:24:24 INFO dspy.teleprompt.mipro_optimizer_v2: Scores so far: [58.39, 76.11]\n",
      "2025/03/26 21:24:24 INFO dspy.teleprompt.mipro_optimizer_v2: Best score so far: 76.11\n",
      "2025/03/26 21:24:24 INFO dspy.teleprompt.mipro_optimizer_v2: =======================\n",
      "\n",
      "\n",
      "2025/03/26 21:24:24 INFO dspy.teleprompt.mipro_optimizer_v2: ===== Trial 3 / 7 =====\n"
     ]
    },
    {
     "name": "stdout",
     "output_type": "stream",
     "text": [
      "\n",
      "Average Metric: 8.68 / 12 (72.4%): 100%|█████████████████████████████████████████████████████████████████████████████████████████████████| 12/12 [00:00<00:00, 486.97it/s]"
     ]
    },
    {
     "name": "stderr",
     "output_type": "stream",
     "text": [
      "2025/03/26 21:24:24 INFO dspy.evaluate.evaluate: Average Metric: 8.683549783549784 / 12 (72.4%)\n",
      "2025/03/26 21:24:24 INFO dspy.teleprompt.mipro_optimizer_v2: Score: 72.36 with parameters ['Predictor 0: Instruction 2', 'Predictor 0: Few-Shot Set 1'].\n",
      "2025/03/26 21:24:24 INFO dspy.teleprompt.mipro_optimizer_v2: Scores so far: [58.39, 76.11, 72.36]\n",
      "2025/03/26 21:24:24 INFO dspy.teleprompt.mipro_optimizer_v2: Best score so far: 76.11\n",
      "2025/03/26 21:24:24 INFO dspy.teleprompt.mipro_optimizer_v2: =======================\n",
      "\n",
      "\n",
      "2025/03/26 21:24:24 INFO dspy.teleprompt.mipro_optimizer_v2: ===== Trial 4 / 7 =====\n"
     ]
    },
    {
     "name": "stdout",
     "output_type": "stream",
     "text": [
      "\n",
      "Average Metric: 8.33 / 12 (69.4%): 100%|█████████████████████████████████████████████████████████████████████████████████████████████████| 12/12 [00:00<00:00, 470.46it/s]"
     ]
    },
    {
     "name": "stderr",
     "output_type": "stream",
     "text": [
      "2025/03/26 21:24:24 INFO dspy.evaluate.evaluate: Average Metric: 8.328205128205129 / 12 (69.4%)\n",
      "2025/03/26 21:24:24 INFO dspy.teleprompt.mipro_optimizer_v2: Score: 69.4 with parameters ['Predictor 0: Instruction 4', 'Predictor 0: Few-Shot Set 1'].\n",
      "2025/03/26 21:24:24 INFO dspy.teleprompt.mipro_optimizer_v2: Scores so far: [58.39, 76.11, 72.36, 69.4]\n",
      "2025/03/26 21:24:24 INFO dspy.teleprompt.mipro_optimizer_v2: Best score so far: 76.11\n",
      "2025/03/26 21:24:24 INFO dspy.teleprompt.mipro_optimizer_v2: =======================\n",
      "\n",
      "\n",
      "2025/03/26 21:24:24 INFO dspy.teleprompt.mipro_optimizer_v2: ===== Trial 5 / 7 =====\n"
     ]
    },
    {
     "name": "stdout",
     "output_type": "stream",
     "text": [
      "\n",
      "Average Metric: 8.68 / 12 (72.4%): 100%|████████████████████████████████████████████████████████████████████████████████████████████████| 12/12 [00:00<00:00, 4175.17it/s]"
     ]
    },
    {
     "name": "stderr",
     "output_type": "stream",
     "text": [
      "2025/03/26 21:24:24 INFO dspy.evaluate.evaluate: Average Metric: 8.683549783549784 / 12 (72.4%)\n",
      "2025/03/26 21:24:24 INFO dspy.teleprompt.mipro_optimizer_v2: Score: 72.36 with parameters ['Predictor 0: Instruction 2', 'Predictor 0: Few-Shot Set 1'].\n"
     ]
    },
    {
     "name": "stdout",
     "output_type": "stream",
     "text": [
      "\n"
     ]
    },
    {
     "name": "stderr",
     "output_type": "stream",
     "text": [
      "2025/03/26 21:24:24 INFO dspy.teleprompt.mipro_optimizer_v2: Scores so far: [58.39, 76.11, 72.36, 69.4, 72.36]\n",
      "2025/03/26 21:24:24 INFO dspy.teleprompt.mipro_optimizer_v2: Best score so far: 76.11\n",
      "2025/03/26 21:24:24 INFO dspy.teleprompt.mipro_optimizer_v2: =======================\n",
      "\n",
      "\n",
      "2025/03/26 21:24:24 INFO dspy.teleprompt.mipro_optimizer_v2: ===== Trial 6 / 7 =====\n"
     ]
    },
    {
     "name": "stdout",
     "output_type": "stream",
     "text": [
      "Average Metric: 6.51 / 12 (54.3%): 100%|█████████████████████████████████████████████████████████████████████████████████████████████████| 12/12 [00:00<00:00, 376.87it/s]"
     ]
    },
    {
     "name": "stderr",
     "output_type": "stream",
     "text": [
      "2025/03/26 21:24:25 INFO dspy.evaluate.evaluate: Average Metric: 6.512121212121212 / 12 (54.3%)\n",
      "2025/03/26 21:24:25 INFO dspy.teleprompt.mipro_optimizer_v2: Score: 54.27 with parameters ['Predictor 0: Instruction 4', 'Predictor 0: Few-Shot Set 3'].\n",
      "2025/03/26 21:24:25 INFO dspy.teleprompt.mipro_optimizer_v2: Scores so far: [58.39, 76.11, 72.36, 69.4, 72.36, 54.27]\n",
      "2025/03/26 21:24:25 INFO dspy.teleprompt.mipro_optimizer_v2: Best score so far: 76.11\n",
      "2025/03/26 21:24:25 INFO dspy.teleprompt.mipro_optimizer_v2: =======================\n",
      "\n",
      "\n",
      "2025/03/26 21:24:25 INFO dspy.teleprompt.mipro_optimizer_v2: ===== Trial 7 / 7 =====\n"
     ]
    },
    {
     "name": "stdout",
     "output_type": "stream",
     "text": [
      "\n",
      "Average Metric: 8.98 / 12 (74.9%): 100%|█████████████████████████████████████████████████████████████████████████████████████████████████| 12/12 [00:00<00:00, 487.45it/s]"
     ]
    },
    {
     "name": "stderr",
     "output_type": "stream",
     "text": [
      "2025/03/26 21:24:25 INFO dspy.evaluate.evaluate: Average Metric: 8.983549783549783 / 12 (74.9%)\n",
      "2025/03/26 21:24:25 INFO dspy.teleprompt.mipro_optimizer_v2: Score: 74.86 with parameters ['Predictor 0: Instruction 0', 'Predictor 0: Few-Shot Set 1'].\n",
      "2025/03/26 21:24:25 INFO dspy.teleprompt.mipro_optimizer_v2: Scores so far: [58.39, 76.11, 72.36, 69.4, 72.36, 54.27, 74.86]\n",
      "2025/03/26 21:24:25 INFO dspy.teleprompt.mipro_optimizer_v2: Best score so far: 76.11\n",
      "2025/03/26 21:24:25 INFO dspy.teleprompt.mipro_optimizer_v2: =======================\n",
      "\n",
      "\n",
      "2025/03/26 21:24:25 INFO dspy.teleprompt.mipro_optimizer_v2: Returning best identified program with score 76.11!\n"
     ]
    },
    {
     "name": "stdout",
     "output_type": "stream",
     "text": [
      "\n"
     ]
    }
   ],
   "source": [
    "optimizer = dspy.MIPROv2(metric=metric, auto=\"light\", num_threads=12)  # use fewer threads if your rate limit is small\n",
    "\n",
    "optimized_rag_pipeline = optimizer.compile(RAG(), trainset=train,\n",
    "                           max_bootstrapped_demos=4, max_labeled_demos=4,\n",
    "                           requires_permission_to_run=False)"
   ]
  },
  {
   "cell_type": "code",
   "execution_count": 24,
   "id": "58701375-0e48-4c8c-a611-57bb79dcb4ff",
   "metadata": {},
   "outputs": [
    {
     "data": {
      "text/plain": [
       "rag.predict = Predict(StringSignature(context, question -> reasoning, response\n",
       "    instructions='You are provided with a context and a question. Use the context to derive a detailed reasoning process and generate a coherent response to the question. Consider the specific details and relationships within the context to ensure an accurate and comprehensive answer.'\n",
       "    context = Field(annotation=str required=True json_schema_extra={'__dspy_field_type': 'input', 'prefix': 'Context:', 'desc': '${context}'})\n",
       "    question = Field(annotation=str required=True json_schema_extra={'__dspy_field_type': 'input', 'prefix': 'Question:', 'desc': '${question}'})\n",
       "    reasoning = Field(annotation=str required=True json_schema_extra={'prefix': \"Reasoning: Let's think step by step in order to\", 'desc': '${reasoning}', '__dspy_field_type': 'output'})\n",
       "    response = Field(annotation=str required=True json_schema_extra={'__dspy_field_type': 'output', 'prefix': 'Response:', 'desc': '${response}'})\n",
       "))"
      ]
     },
     "execution_count": 24,
     "metadata": {},
     "output_type": "execute_result"
    }
   ],
   "source": [
    "optimized_rag_pipeline"
   ]
  },
  {
   "cell_type": "code",
   "execution_count": 25,
   "id": "9da88df2-e076-47b9-a84a-7ab349abbfc7",
   "metadata": {},
   "outputs": [],
   "source": [
    "optimized_rag_pipeline.save('optimized_pipeline.json')"
   ]
  },
  {
   "cell_type": "code",
   "execution_count": 26,
   "id": "59c8ad9b-d1f0-4584-abc3-78e6a2cf6620",
   "metadata": {},
   "outputs": [
    {
     "name": "stdout",
     "output_type": "stream",
     "text": [
      "Average Metric: 25.80 / 40 (64.5%): 100%|████████████████████████████████████████████████████████████████████████████████████████████████| 40/40 [00:00<00:00, 262.88it/s]"
     ]
    },
    {
     "name": "stderr",
     "output_type": "stream",
     "text": [
      "2025/03/26 21:24:51 INFO dspy.evaluate.evaluate: Average Metric: 25.7952380952381 / 40 (64.5%)\n"
     ]
    },
    {
     "name": "stdout",
     "output_type": "stream",
     "text": [
      "\n"
     ]
    },
    {
     "data": {
      "text/html": [
       "<div>\n",
       "<style scoped>\n",
       "    .dataframe tbody tr th:only-of-type {\n",
       "        vertical-align: middle;\n",
       "    }\n",
       "\n",
       "    .dataframe tbody tr th {\n",
       "        vertical-align: top;\n",
       "    }\n",
       "\n",
       "    .dataframe thead th {\n",
       "        text-align: right;\n",
       "    }\n",
       "</style>\n",
       "<table border=\"1\" class=\"dataframe\">\n",
       "  <thead>\n",
       "    <tr style=\"text-align: right;\">\n",
       "      <th></th>\n",
       "      <th>question</th>\n",
       "      <th>example_response</th>\n",
       "      <th>context</th>\n",
       "      <th>reasoning</th>\n",
       "      <th>pred_response</th>\n",
       "      <th>SemanticF1</th>\n",
       "    </tr>\n",
       "  </thead>\n",
       "  <tbody>\n",
       "    <tr>\n",
       "      <th>0</th>\n",
       "      <td>During high school year, which online security community Jan Koum ...</td>\n",
       "      <td>w00w00</td>\n",
       "      <td>Transcript: (disclaimer: may contain unintentionally confusing, in...</td>\n",
       "      <td>Not supplied for this particular example.</td>\n",
       "      <td>w00w00</td>\n",
       "      <td>✔️ [1.000]</td>\n",
       "    </tr>\n",
       "    <tr>\n",
       "      <th>1</th>\n",
       "      <td>What is the difference between recurrent neural networks and convo...</td>\n",
       "      <td>The state of the art had evolved and RNN is sequential and has ver...</td>\n",
       "      <td>Transcript: (disclaimer: may contain unintentionally confusing, in...</td>\n",
       "      <td>Recurrent Neural Networks (RNNs) and Convolutional Neural Networks...</td>\n",
       "      <td>Recurrent Neural Networks (RNNs) are designed for sequential data ...</td>\n",
       "      <td>✔️ [0.250]</td>\n",
       "    </tr>\n",
       "    <tr>\n",
       "      <th>2</th>\n",
       "      <td>What was the patent Heddy developed? Was it publicly available?</td>\n",
       "      <td>Hedy teams up with her new Hollywood neighbor, a music composer na...</td>\n",
       "      <td>Transcript: (disclaimer: may contain unintentionally confusing, in...</td>\n",
       "      <td>Not supplied for this particular example.</td>\n",
       "      <td>The patent Hedy Lamarr developed was for a frequency hopping techn...</td>\n",
       "      <td>✔️ [0.571]</td>\n",
       "    </tr>\n",
       "    <tr>\n",
       "      <th>3</th>\n",
       "      <td>Which was one of the first free email services?</td>\n",
       "      <td>Juno was one of the first free email services.</td>\n",
       "      <td>Transcript: (disclaimer: may contain unintentionally confusing, in...</td>\n",
       "      <td>The context mentions that within D. E. Shaw, Jeff Bezos and David ...</td>\n",
       "      <td>Juno</td>\n",
       "      <td>✔️ [1.000]</td>\n",
       "    </tr>\n",
       "    <tr>\n",
       "      <th>4</th>\n",
       "      <td>Visa is the global sponsor of what?</td>\n",
       "      <td>Visa is the global sponsor of The Olympics</td>\n",
       "      <td>Transcript: (disclaimer: may contain unintentionally confusing, in...</td>\n",
       "      <td>Not supplied for this particular example.</td>\n",
       "      <td>The Olympics</td>\n",
       "      <td>✔️ [1.000]</td>\n",
       "    </tr>\n",
       "  </tbody>\n",
       "</table>\n",
       "</div>"
      ],
      "text/plain": [
       "                                                                question  \\\n",
       "0  During high school year, which online security community Jan Koum ...   \n",
       "1  What is the difference between recurrent neural networks and convo...   \n",
       "2        What was the patent Heddy developed? Was it publicly available?   \n",
       "3                        Which was one of the first free email services?   \n",
       "4                                    Visa is the global sponsor of what?   \n",
       "\n",
       "                                                        example_response  \\\n",
       "0                                                                 w00w00   \n",
       "1  The state of the art had evolved and RNN is sequential and has ver...   \n",
       "2  Hedy teams up with her new Hollywood neighbor, a music composer na...   \n",
       "3                         Juno was one of the first free email services.   \n",
       "4                             Visa is the global sponsor of The Olympics   \n",
       "\n",
       "                                                                 context  \\\n",
       "0  Transcript: (disclaimer: may contain unintentionally confusing, in...   \n",
       "1  Transcript: (disclaimer: may contain unintentionally confusing, in...   \n",
       "2  Transcript: (disclaimer: may contain unintentionally confusing, in...   \n",
       "3  Transcript: (disclaimer: may contain unintentionally confusing, in...   \n",
       "4  Transcript: (disclaimer: may contain unintentionally confusing, in...   \n",
       "\n",
       "                                                               reasoning  \\\n",
       "0                              Not supplied for this particular example.   \n",
       "1  Recurrent Neural Networks (RNNs) and Convolutional Neural Networks...   \n",
       "2                              Not supplied for this particular example.   \n",
       "3  The context mentions that within D. E. Shaw, Jeff Bezos and David ...   \n",
       "4                              Not supplied for this particular example.   \n",
       "\n",
       "                                                           pred_response  \\\n",
       "0                                                                 w00w00   \n",
       "1  Recurrent Neural Networks (RNNs) are designed for sequential data ...   \n",
       "2  The patent Hedy Lamarr developed was for a frequency hopping techn...   \n",
       "3                                                                   Juno   \n",
       "4                                                           The Olympics   \n",
       "\n",
       "   SemanticF1  \n",
       "0  ✔️ [1.000]  \n",
       "1  ✔️ [0.250]  \n",
       "2  ✔️ [0.571]  \n",
       "3  ✔️ [1.000]  \n",
       "4  ✔️ [1.000]  "
      ]
     },
     "metadata": {},
     "output_type": "display_data"
    },
    {
     "data": {
      "text/html": [
       "\n",
       "            <div style='\n",
       "                text-align: center;\n",
       "                font-size: 16px;\n",
       "                font-weight: bold;\n",
       "                color: #555;\n",
       "                margin: 10px 0;'>\n",
       "                ... 35 more rows not displayed ...\n",
       "            </div>\n",
       "            "
      ],
      "text/plain": [
       "<IPython.core.display.HTML object>"
      ]
     },
     "metadata": {},
     "output_type": "display_data"
    },
    {
     "data": {
      "text/plain": [
       "64.49"
      ]
     },
     "execution_count": 26,
     "metadata": {},
     "output_type": "execute_result"
    }
   ],
   "source": [
    "run_evaluation(val, metric, optimized_rag_pipeline)"
   ]
  },
  {
   "cell_type": "markdown",
   "id": "f9725928-7a45-4fac-9a77-a905a3bffedd",
   "metadata": {},
   "source": [
    "## Can we summarize the transcript to avoid token limit?"
   ]
  },
  {
   "cell_type": "code",
   "execution_count": 50,
   "id": "ac569bb2-52fe-4ab8-9b1c-1129bc3ad027",
   "metadata": {},
   "outputs": [],
   "source": [
    "df = load_data(truncate_transcripts=False)"
   ]
  },
  {
   "cell_type": "code",
   "execution_count": 51,
   "id": "21820572-6b2c-4f1b-b008-467c7f9ccd9b",
   "metadata": {},
   "outputs": [],
   "source": [
    "class Summarize(dspy.Signature):\n",
    "    \"\"\"Summarize the long-form text input.\"\"\"\n",
    "    text: str = dspy.InputField()\n",
    "    summary: str = dspy.OutputField(desc=\"Summary of the long-form text with all key points\")"
   ]
  },
  {
   "cell_type": "code",
   "execution_count": 52,
   "id": "0729fa2b-8ece-4b4c-9e0c-daca3e741987",
   "metadata": {},
   "outputs": [],
   "source": [
    "class SummaryRAG(dspy.Module):\n",
    "    def __init__(self):\n",
    "        self.summarize = dspy.ChainOfThought(Summarize)\n",
    "        self.rag = dspy.ChainOfThought('context, question -> response')\n",
    "\n",
    "    def forward(self, question, context):\n",
    "        summary = self.summarize(text=context)\n",
    "        return self.rag(question=question, context=summary)"
   ]
  },
  {
   "cell_type": "code",
   "execution_count": 53,
   "id": "3f8a43e5-dbb9-445a-85f6-f16ad57c2a5f",
   "metadata": {},
   "outputs": [],
   "source": [
    "summary_rag_pipeline = SummaryRAG()"
   ]
  },
  {
   "cell_type": "code",
   "execution_count": 54,
   "id": "09bdb8f5-b28d-4f5b-938e-d538bf7158f6",
   "metadata": {},
   "outputs": [
    {
     "data": {
      "text/plain": [
       "Prediction(\n",
       "    reasoning=\"The context provided is a summary of a podcast episode discussing Peloton's business strategy and leadership changes. However, it does not specifically mention the original price of Peloton's products or services. To answer the question about Peloton's original price, additional information or research would be needed, as the context does not provide this detail.\",\n",
       "    response=\"The context does not specify Peloton's original price. Typically, Peloton's original bike was priced around $2,245 when it first launched, but for precise historical pricing, further research or specific sources would be required.\"\n",
       ")"
      ]
     },
     "execution_count": 54,
     "metadata": {},
     "output_type": "execute_result"
    }
   ],
   "source": [
    "summary_rag_pipeline(val[14]['question'], val[14]['context'])"
   ]
  },
  {
   "cell_type": "code",
   "execution_count": 55,
   "id": "c05df2bc-042f-4c65-92b6-008525810feb",
   "metadata": {},
   "outputs": [
    {
     "name": "stdout",
     "output_type": "stream",
     "text": [
      "Average Metric: 11.43 / 40 (28.6%): 100%|█████████████████████████████████████████████████████████████████████████████████████████████████| 40/40 [01:24<00:00,  2.12s/it]"
     ]
    },
    {
     "name": "stderr",
     "output_type": "stream",
     "text": [
      "2025/03/26 21:56:18 INFO dspy.evaluate.evaluate: Average Metric: 11.434920634920635 / 40 (28.6%)\n"
     ]
    },
    {
     "name": "stdout",
     "output_type": "stream",
     "text": [
      "\n"
     ]
    },
    {
     "data": {
      "text/html": [
       "<div>\n",
       "<style scoped>\n",
       "    .dataframe tbody tr th:only-of-type {\n",
       "        vertical-align: middle;\n",
       "    }\n",
       "\n",
       "    .dataframe tbody tr th {\n",
       "        vertical-align: top;\n",
       "    }\n",
       "\n",
       "    .dataframe thead th {\n",
       "        text-align: right;\n",
       "    }\n",
       "</style>\n",
       "<table border=\"1\" class=\"dataframe\">\n",
       "  <thead>\n",
       "    <tr style=\"text-align: right;\">\n",
       "      <th></th>\n",
       "      <th>question</th>\n",
       "      <th>example_response</th>\n",
       "      <th>context</th>\n",
       "      <th>reasoning</th>\n",
       "      <th>pred_response</th>\n",
       "      <th>SemanticF1</th>\n",
       "    </tr>\n",
       "  </thead>\n",
       "  <tbody>\n",
       "    <tr>\n",
       "      <th>0</th>\n",
       "      <td>During high school year, which online security community Jan Koum ...</td>\n",
       "      <td>w00w00</td>\n",
       "      <td>Transcript: (disclaimer: may contain unintentionally confusing, in...</td>\n",
       "      <td>The context provided does not explicitly mention the specific onli...</td>\n",
       "      <td>Jan Koum was part of the online security community \"w00w00\" during...</td>\n",
       "      <td>✔️ [1.000]</td>\n",
       "    </tr>\n",
       "    <tr>\n",
       "      <th>1</th>\n",
       "      <td>What is the difference between recurrent neural networks and convo...</td>\n",
       "      <td>The state of the art had evolved and RNN is sequential and has ver...</td>\n",
       "      <td>Transcript: (disclaimer: may contain unintentionally confusing, in...</td>\n",
       "      <td>Recurrent Neural Networks (RNNs) and Convolutional Neural Networks...</td>\n",
       "      <td>Recurrent Neural Networks (RNNs) and Convolutional Neural Networks...</td>\n",
       "      <td>✔️ [0.286]</td>\n",
       "    </tr>\n",
       "    <tr>\n",
       "      <th>2</th>\n",
       "      <td>What was the patent Heddy developed? Was it publicly available?</td>\n",
       "      <td>Hedy teams up with her new Hollywood neighbor, a music composer na...</td>\n",
       "      <td>Transcript: (disclaimer: may contain unintentionally confusing, in...</td>\n",
       "      <td>Hedy Lamarr, along with composer George Antheil, developed a paten...</td>\n",
       "      <td>Hedy Lamarr developed a patent for frequency-hopping spread spectr...</td>\n",
       "      <td>✔️ [0.667]</td>\n",
       "    </tr>\n",
       "    <tr>\n",
       "      <th>3</th>\n",
       "      <td>Which was one of the first free email services?</td>\n",
       "      <td>Juno was one of the first free email services.</td>\n",
       "      <td>Transcript: (disclaimer: may contain unintentionally confusing, in...</td>\n",
       "      <td>The context provided does not directly address the question about ...</td>\n",
       "      <td>One of the first free email services was Hotmail, which was launch...</td>\n",
       "      <td></td>\n",
       "    </tr>\n",
       "    <tr>\n",
       "      <th>4</th>\n",
       "      <td>Visa is the global sponsor of what?</td>\n",
       "      <td>Visa is the global sponsor of The Olympics</td>\n",
       "      <td>Transcript: (disclaimer: may contain unintentionally confusing, in...</td>\n",
       "      <td>The context provided does not directly mention Visa's current spon...</td>\n",
       "      <td>Visa is the global sponsor of major events such as the Olympic Gam...</td>\n",
       "      <td>✔️ [0.667]</td>\n",
       "    </tr>\n",
       "  </tbody>\n",
       "</table>\n",
       "</div>"
      ],
      "text/plain": [
       "                                                                question  \\\n",
       "0  During high school year, which online security community Jan Koum ...   \n",
       "1  What is the difference between recurrent neural networks and convo...   \n",
       "2        What was the patent Heddy developed? Was it publicly available?   \n",
       "3                        Which was one of the first free email services?   \n",
       "4                                    Visa is the global sponsor of what?   \n",
       "\n",
       "                                                        example_response  \\\n",
       "0                                                                 w00w00   \n",
       "1  The state of the art had evolved and RNN is sequential and has ver...   \n",
       "2  Hedy teams up with her new Hollywood neighbor, a music composer na...   \n",
       "3                         Juno was one of the first free email services.   \n",
       "4                             Visa is the global sponsor of The Olympics   \n",
       "\n",
       "                                                                 context  \\\n",
       "0  Transcript: (disclaimer: may contain unintentionally confusing, in...   \n",
       "1  Transcript: (disclaimer: may contain unintentionally confusing, in...   \n",
       "2  Transcript: (disclaimer: may contain unintentionally confusing, in...   \n",
       "3  Transcript: (disclaimer: may contain unintentionally confusing, in...   \n",
       "4  Transcript: (disclaimer: may contain unintentionally confusing, in...   \n",
       "\n",
       "                                                               reasoning  \\\n",
       "0  The context provided does not explicitly mention the specific onli...   \n",
       "1  Recurrent Neural Networks (RNNs) and Convolutional Neural Networks...   \n",
       "2  Hedy Lamarr, along with composer George Antheil, developed a paten...   \n",
       "3  The context provided does not directly address the question about ...   \n",
       "4  The context provided does not directly mention Visa's current spon...   \n",
       "\n",
       "                                                           pred_response  \\\n",
       "0  Jan Koum was part of the online security community \"w00w00\" during...   \n",
       "1  Recurrent Neural Networks (RNNs) and Convolutional Neural Networks...   \n",
       "2  Hedy Lamarr developed a patent for frequency-hopping spread spectr...   \n",
       "3  One of the first free email services was Hotmail, which was launch...   \n",
       "4  Visa is the global sponsor of major events such as the Olympic Gam...   \n",
       "\n",
       "   SemanticF1  \n",
       "0  ✔️ [1.000]  \n",
       "1  ✔️ [0.286]  \n",
       "2  ✔️ [0.667]  \n",
       "3              \n",
       "4  ✔️ [0.667]  "
      ]
     },
     "metadata": {},
     "output_type": "display_data"
    },
    {
     "data": {
      "text/html": [
       "\n",
       "            <div style='\n",
       "                text-align: center;\n",
       "                font-size: 16px;\n",
       "                font-weight: bold;\n",
       "                color: #555;\n",
       "                margin: 10px 0;'>\n",
       "                ... 35 more rows not displayed ...\n",
       "            </div>\n",
       "            "
      ],
      "text/plain": [
       "<IPython.core.display.HTML object>"
      ]
     },
     "metadata": {},
     "output_type": "display_data"
    },
    {
     "data": {
      "text/plain": [
       "28.59"
      ]
     },
     "execution_count": 55,
     "metadata": {},
     "output_type": "execute_result"
    }
   ],
   "source": [
    "run_evaluation(val, metric, summary_rag_pipeline)"
   ]
  },
  {
   "cell_type": "markdown",
   "id": "8969449b-e1f2-423c-95f7-dd437d8d7f7e",
   "metadata": {},
   "source": [
    "### Optimize this pipeline "
   ]
  },
  {
   "cell_type": "code",
   "execution_count": 56,
   "id": "ef0b8628-a0ec-4823-9885-c7a8e9895793",
   "metadata": {},
   "outputs": [
    {
     "name": "stderr",
     "output_type": "stream",
     "text": [
      "2025/03/26 21:56:18 INFO dspy.teleprompt.mipro_optimizer_v2: \n",
      "RUNNING WITH THE FOLLOWING LIGHT AUTO RUN SETTINGS:\n",
      "num_trials: 7\n",
      "minibatch: False\n",
      "num_candidates: 3\n",
      "valset size: 12\n",
      "\n",
      "2025/03/26 21:56:18 INFO dspy.teleprompt.mipro_optimizer_v2: \n",
      "==> STEP 1: BOOTSTRAP FEWSHOT EXAMPLES <==\n",
      "2025/03/26 21:56:18 INFO dspy.teleprompt.mipro_optimizer_v2: These will be used as few-shot example candidates for our program and for creating instructions.\n",
      "\n",
      "2025/03/26 21:56:18 INFO dspy.teleprompt.mipro_optimizer_v2: Bootstrapping N=3 sets of demonstrations...\n"
     ]
    },
    {
     "name": "stdout",
     "output_type": "stream",
     "text": [
      "Bootstrapping set 1/3\n",
      "Bootstrapping set 2/3\n",
      "Bootstrapping set 3/3\n"
     ]
    },
    {
     "name": "stderr",
     "output_type": "stream",
     "text": [
      "100%|███████████████████████████████████████████████████████████████████████████████████████████████████████████████████████████████████████| 4/4 [00:19<00:00,  4.79s/it]\n",
      "2025/03/26 21:56:38 INFO dspy.teleprompt.mipro_optimizer_v2: \n",
      "==> STEP 2: PROPOSE INSTRUCTION CANDIDATES <==\n",
      "2025/03/26 21:56:38 INFO dspy.teleprompt.mipro_optimizer_v2: We will use the few-shot examples from the previous step, a generated dataset summary, a summary of the program code, and a randomly selected prompting tip to propose instructions.\n",
      "2025/03/26 21:56:38 INFO dspy.teleprompt.mipro_optimizer_v2: \n",
      "Proposing instructions...\n",
      "\n"
     ]
    },
    {
     "name": "stdout",
     "output_type": "stream",
     "text": [
      "Bootstrapped 0 full traces after 3 examples for up to 1 rounds, amounting to 4 attempts.\n"
     ]
    },
    {
     "name": "stderr",
     "output_type": "stream",
     "text": [
      "2025/03/26 21:57:30 INFO dspy.teleprompt.mipro_optimizer_v2: Proposed Instructions for Predictor 0:\n",
      "\n",
      "2025/03/26 21:57:30 INFO dspy.teleprompt.mipro_optimizer_v2: 0: Summarize the long-form text input.\n",
      "\n",
      "2025/03/26 21:57:30 INFO dspy.teleprompt.mipro_optimizer_v2: 1: Imagine you are a journalist tasked with providing a concise and accurate summary of a complex news article for the evening bulletin. Your goal is to distill the long-form text provided into a brief yet comprehensive summary that captures all the critical points and insights, ensuring that the audience receives a clear understanding of the topic. Approach this task with meticulous attention to detail and logical reasoning, as your summary will be the key source of information for viewers who rely on your expertise to convey the essence of the story.\n",
      "\n",
      "2025/03/26 21:57:30 INFO dspy.teleprompt.mipro_optimizer_v2: 2: You are an expert summarizer tasked with transforming long-form texts into concise summaries. Your goal is to extract and present all key points while maintaining the logical flow and context of the original content. As you summarize, provide a step-by-step reasoning process that outlines how you identified the essential information. Begin by carefully analyzing the text, considering its main themes and arguments, and then generate a clear and comprehensive summary that encapsulates the core message.\n",
      "\n",
      "2025/03/26 21:57:30 INFO dspy.teleprompt.mipro_optimizer_v2: \n",
      "\n",
      "2025/03/26 21:57:30 INFO dspy.teleprompt.mipro_optimizer_v2: Proposed Instructions for Predictor 1:\n",
      "\n",
      "2025/03/26 21:57:30 INFO dspy.teleprompt.mipro_optimizer_v2: 0: Given the fields `context`, `question`, produce the fields `response`.\n",
      "\n",
      "2025/03/26 21:57:30 INFO dspy.teleprompt.mipro_optimizer_v2: 1: You are an expert language model specialized in question answering. Given a `context` and a `question`, your task is to produce a comprehensive `response` that accurately answers the question based on the information in the context. Additionally, provide a detailed `reasoning` process that outlines your step-by-step thought process in deriving the answer. Ensure that your reasoning is logical and clearly illustrates how the context supports your response.\n",
      "\n",
      "2025/03/26 21:57:30 INFO dspy.teleprompt.mipro_optimizer_v2: 2: Using the provided `context` and `question`, employ a step-by-step reasoning process to analyze the information and generate a comprehensive and contextually relevant `response`. Ensure that the response accurately reflects the key points from the context and directly addresses the question, demonstrating a clear understanding of the material.\n",
      "\n",
      "2025/03/26 21:57:30 INFO dspy.teleprompt.mipro_optimizer_v2: \n",
      "\n",
      "2025/03/26 21:57:30 INFO dspy.teleprompt.mipro_optimizer_v2: ==> STEP 3: FINDING OPTIMAL PROMPT PARAMETERS <==\n",
      "2025/03/26 21:57:30 INFO dspy.teleprompt.mipro_optimizer_v2: We will evaluate the program over a series of trials with different combinations of instructions and few-shot examples to find the optimal combination using Bayesian Optimization.\n",
      "\n",
      "2025/03/26 21:57:30 INFO dspy.teleprompt.mipro_optimizer_v2: == Trial 1 / 7 - Full Evaluation of Default Program ==\n"
     ]
    },
    {
     "name": "stdout",
     "output_type": "stream",
     "text": [
      "Average Metric: 5.13 / 12 (42.8%): 100%|████████████████████████████████████████████████████████████████████████████████████████████████| 12/12 [00:00<00:00, 3737.13it/s]"
     ]
    },
    {
     "name": "stderr",
     "output_type": "stream",
     "text": [
      "2025/03/26 21:57:30 INFO dspy.evaluate.evaluate: Average Metric: 5.133333333333334 / 12 (42.8%)\n",
      "2025/03/26 21:57:30 INFO dspy.teleprompt.mipro_optimizer_v2: Default program score: 42.78\n",
      "\n",
      "/opt/anaconda3/envs/py310/lib/python3.10/site-packages/optuna/_experimental.py:31: ExperimentalWarning: Argument ``multivariate`` is an experimental feature. The interface can change in the future.\n",
      "  warnings.warn(\n",
      "2025/03/26 21:57:30 INFO dspy.teleprompt.mipro_optimizer_v2: ===== Trial 2 / 7 =====\n"
     ]
    },
    {
     "name": "stdout",
     "output_type": "stream",
     "text": [
      "\n",
      "Average Metric: 5.57 / 12 (46.4%): 100%|██████████████████████████████████████████████████████████████████████████████████████████████████| 12/12 [00:13<00:00,  1.14s/it]"
     ]
    },
    {
     "name": "stderr",
     "output_type": "stream",
     "text": [
      "2025/03/26 21:57:43 INFO dspy.evaluate.evaluate: Average Metric: 5.566666666666666 / 12 (46.4%)\n",
      "2025/03/26 21:57:43 INFO dspy.teleprompt.mipro_optimizer_v2: \u001b[92mBest full score so far!\u001b[0m Score: 46.39\n",
      "2025/03/26 21:57:43 INFO dspy.teleprompt.mipro_optimizer_v2: Score: 46.39 with parameters ['Predictor 0: Instruction 1', 'Predictor 0: Few-Shot Set 2', 'Predictor 1: Instruction 0', 'Predictor 1: Few-Shot Set 2'].\n",
      "2025/03/26 21:57:43 INFO dspy.teleprompt.mipro_optimizer_v2: Scores so far: [42.78, 46.39]\n",
      "2025/03/26 21:57:43 INFO dspy.teleprompt.mipro_optimizer_v2: Best score so far: 46.39\n",
      "2025/03/26 21:57:43 INFO dspy.teleprompt.mipro_optimizer_v2: =======================\n",
      "\n",
      "\n",
      "2025/03/26 21:57:43 INFO dspy.teleprompt.mipro_optimizer_v2: ===== Trial 3 / 7 =====\n"
     ]
    },
    {
     "name": "stdout",
     "output_type": "stream",
     "text": [
      "\n",
      "Average Metric: 7.05 / 12 (58.7%): 100%|██████████████████████████████████████████████████████████████████████████████████████████████████| 12/12 [00:15<00:00,  1.28s/it]"
     ]
    },
    {
     "name": "stderr",
     "output_type": "stream",
     "text": [
      "2025/03/26 21:57:59 INFO dspy.evaluate.evaluate: Average Metric: 7.0499061913696055 / 12 (58.7%)\n",
      "2025/03/26 21:57:59 INFO dspy.teleprompt.mipro_optimizer_v2: \u001b[92mBest full score so far!\u001b[0m Score: 58.75\n",
      "2025/03/26 21:57:59 INFO dspy.teleprompt.mipro_optimizer_v2: Score: 58.75 with parameters ['Predictor 0: Instruction 0', 'Predictor 0: Few-Shot Set 1', 'Predictor 1: Instruction 1', 'Predictor 1: Few-Shot Set 1'].\n",
      "2025/03/26 21:57:59 INFO dspy.teleprompt.mipro_optimizer_v2: Scores so far: [42.78, 46.39, 58.75]\n",
      "2025/03/26 21:57:59 INFO dspy.teleprompt.mipro_optimizer_v2: Best score so far: 58.75\n",
      "2025/03/26 21:57:59 INFO dspy.teleprompt.mipro_optimizer_v2: =======================\n",
      "\n",
      "\n",
      "2025/03/26 21:57:59 INFO dspy.teleprompt.mipro_optimizer_v2: ===== Trial 4 / 7 =====\n"
     ]
    },
    {
     "name": "stdout",
     "output_type": "stream",
     "text": [
      "\n",
      "Average Metric: 6.90 / 12 (57.5%): 100%|██████████████████████████████████████████████████████████████████████████████████████████████████| 12/12 [00:18<00:00,  1.52s/it]"
     ]
    },
    {
     "name": "stderr",
     "output_type": "stream",
     "text": [
      "2025/03/26 21:58:17 INFO dspy.evaluate.evaluate: Average Metric: 6.9 / 12 (57.5%)\n",
      "2025/03/26 21:58:17 INFO dspy.teleprompt.mipro_optimizer_v2: Score: 57.5 with parameters ['Predictor 0: Instruction 2', 'Predictor 0: Few-Shot Set 2', 'Predictor 1: Instruction 2', 'Predictor 1: Few-Shot Set 2'].\n",
      "2025/03/26 21:58:17 INFO dspy.teleprompt.mipro_optimizer_v2: Scores so far: [42.78, 46.39, 58.75, 57.5]\n",
      "2025/03/26 21:58:17 INFO dspy.teleprompt.mipro_optimizer_v2: Best score so far: 58.75\n",
      "2025/03/26 21:58:17 INFO dspy.teleprompt.mipro_optimizer_v2: =======================\n",
      "\n",
      "\n",
      "2025/03/26 21:58:17 INFO dspy.teleprompt.mipro_optimizer_v2: ===== Trial 5 / 7 =====\n"
     ]
    },
    {
     "name": "stdout",
     "output_type": "stream",
     "text": [
      "\n",
      "Average Metric: 7.07 / 12 (58.9%): 100%|██████████████████████████████████████████████████████████████████████████████████████████████████| 12/12 [00:10<00:00,  1.10it/s]"
     ]
    },
    {
     "name": "stderr",
     "output_type": "stream",
     "text": [
      "2025/03/26 21:58:28 INFO dspy.evaluate.evaluate: Average Metric: 7.071428571428571 / 12 (58.9%)\n",
      "2025/03/26 21:58:28 INFO dspy.teleprompt.mipro_optimizer_v2: \u001b[92mBest full score so far!\u001b[0m Score: 58.93\n",
      "2025/03/26 21:58:28 INFO dspy.teleprompt.mipro_optimizer_v2: Score: 58.93 with parameters ['Predictor 0: Instruction 0', 'Predictor 0: Few-Shot Set 1', 'Predictor 1: Instruction 2', 'Predictor 1: Few-Shot Set 2'].\n",
      "2025/03/26 21:58:28 INFO dspy.teleprompt.mipro_optimizer_v2: Scores so far: [42.78, 46.39, 58.75, 57.5, 58.93]\n",
      "2025/03/26 21:58:28 INFO dspy.teleprompt.mipro_optimizer_v2: Best score so far: 58.93\n",
      "2025/03/26 21:58:28 INFO dspy.teleprompt.mipro_optimizer_v2: =======================\n",
      "\n",
      "\n",
      "2025/03/26 21:58:28 INFO dspy.teleprompt.mipro_optimizer_v2: ===== Trial 6 / 7 =====\n"
     ]
    },
    {
     "name": "stdout",
     "output_type": "stream",
     "text": [
      "\n",
      "Average Metric: 7.07 / 12 (58.9%): 100%|████████████████████████████████████████████████████████████████████████████████████████████████| 12/12 [00:00<00:00, 4678.53it/s]"
     ]
    },
    {
     "name": "stderr",
     "output_type": "stream",
     "text": [
      "2025/03/26 21:58:28 INFO dspy.evaluate.evaluate: Average Metric: 7.071428571428571 / 12 (58.9%)\n",
      "2025/03/26 21:58:28 INFO dspy.teleprompt.mipro_optimizer_v2: Score: 58.93 with parameters ['Predictor 0: Instruction 0', 'Predictor 0: Few-Shot Set 0', 'Predictor 1: Instruction 2', 'Predictor 1: Few-Shot Set 2'].\n",
      "2025/03/26 21:58:28 INFO dspy.teleprompt.mipro_optimizer_v2: Scores so far: [42.78, 46.39, 58.75, 57.5, 58.93, 58.93]\n",
      "2025/03/26 21:58:28 INFO dspy.teleprompt.mipro_optimizer_v2: Best score so far: 58.93\n",
      "2025/03/26 21:58:28 INFO dspy.teleprompt.mipro_optimizer_v2: =======================\n",
      "\n",
      "\n",
      "2025/03/26 21:58:28 INFO dspy.teleprompt.mipro_optimizer_v2: ===== Trial 7 / 7 =====\n"
     ]
    },
    {
     "name": "stdout",
     "output_type": "stream",
     "text": [
      "\n",
      "Average Metric: 7.11 / 12 (59.2%): 100%|██████████████████████████████████████████████████████████████████████████████████████████████████| 12/12 [00:07<00:00,  1.52it/s]"
     ]
    },
    {
     "name": "stderr",
     "output_type": "stream",
     "text": [
      "2025/03/26 21:58:36 INFO dspy.evaluate.evaluate: Average Metric: 7.108093237294917 / 12 (59.2%)\n",
      "2025/03/26 21:58:36 INFO dspy.teleprompt.mipro_optimizer_v2: \u001b[92mBest full score so far!\u001b[0m Score: 59.23\n",
      "2025/03/26 21:58:36 INFO dspy.teleprompt.mipro_optimizer_v2: Score: 59.23 with parameters ['Predictor 0: Instruction 2', 'Predictor 0: Few-Shot Set 1', 'Predictor 1: Instruction 0', 'Predictor 1: Few-Shot Set 1'].\n",
      "2025/03/26 21:58:36 INFO dspy.teleprompt.mipro_optimizer_v2: Scores so far: [42.78, 46.39, 58.75, 57.5, 58.93, 58.93, 59.23]\n",
      "2025/03/26 21:58:36 INFO dspy.teleprompt.mipro_optimizer_v2: Best score so far: 59.23\n",
      "2025/03/26 21:58:36 INFO dspy.teleprompt.mipro_optimizer_v2: =======================\n",
      "\n",
      "\n",
      "2025/03/26 21:58:36 INFO dspy.teleprompt.mipro_optimizer_v2: Returning best identified program with score 59.23!\n"
     ]
    },
    {
     "name": "stdout",
     "output_type": "stream",
     "text": [
      "\n"
     ]
    }
   ],
   "source": [
    "optimized_summary_rag_pipeline = optimizer.compile(SummaryRAG(), trainset=train,\n",
    "                           max_bootstrapped_demos=4, max_labeled_demos=4,\n",
    "                           requires_permission_to_run=False)"
   ]
  },
  {
   "cell_type": "code",
   "execution_count": 57,
   "id": "f44448c5-d2a8-49b5-bee1-0016a77af231",
   "metadata": {},
   "outputs": [
    {
     "name": "stdout",
     "output_type": "stream",
     "text": [
      "Average Metric: 19.54 / 40 (48.8%): 100%|█████████████████████████████████████████████████████████████████████████████████████████████████| 40/40 [01:09<00:00,  1.73s/it]"
     ]
    },
    {
     "name": "stderr",
     "output_type": "stream",
     "text": [
      "2025/03/26 21:59:45 INFO dspy.evaluate.evaluate: Average Metric: 19.53649758148874 / 40 (48.8%)\n"
     ]
    },
    {
     "name": "stdout",
     "output_type": "stream",
     "text": [
      "\n"
     ]
    },
    {
     "data": {
      "text/html": [
       "<div>\n",
       "<style scoped>\n",
       "    .dataframe tbody tr th:only-of-type {\n",
       "        vertical-align: middle;\n",
       "    }\n",
       "\n",
       "    .dataframe tbody tr th {\n",
       "        vertical-align: top;\n",
       "    }\n",
       "\n",
       "    .dataframe thead th {\n",
       "        text-align: right;\n",
       "    }\n",
       "</style>\n",
       "<table border=\"1\" class=\"dataframe\">\n",
       "  <thead>\n",
       "    <tr style=\"text-align: right;\">\n",
       "      <th></th>\n",
       "      <th>question</th>\n",
       "      <th>example_response</th>\n",
       "      <th>context</th>\n",
       "      <th>reasoning</th>\n",
       "      <th>pred_response</th>\n",
       "      <th>SemanticF1</th>\n",
       "    </tr>\n",
       "  </thead>\n",
       "  <tbody>\n",
       "    <tr>\n",
       "      <th>0</th>\n",
       "      <td>During high school year, which online security community Jan Koum ...</td>\n",
       "      <td>w00w00</td>\n",
       "      <td>Transcript: (disclaimer: may contain unintentionally confusing, in...</td>\n",
       "      <td>The context provided is a summary of a podcast episode discussing ...</td>\n",
       "      <td>w00w00</td>\n",
       "      <td>✔️ [1.000]</td>\n",
       "    </tr>\n",
       "    <tr>\n",
       "      <th>1</th>\n",
       "      <td>What is the difference between recurrent neural networks and convo...</td>\n",
       "      <td>The state of the art had evolved and RNN is sequential and has ver...</td>\n",
       "      <td>Transcript: (disclaimer: may contain unintentionally confusing, in...</td>\n",
       "      <td>Recurrent Neural Networks (RNNs) and Convolutional Neural Networks...</td>\n",
       "      <td>Recurrent Neural Networks (RNNs) are designed for sequential data ...</td>\n",
       "      <td>✔️ [0.286]</td>\n",
       "    </tr>\n",
       "    <tr>\n",
       "      <th>2</th>\n",
       "      <td>What was the patent Heddy developed? Was it publicly available?</td>\n",
       "      <td>Hedy teams up with her new Hollywood neighbor, a music composer na...</td>\n",
       "      <td>Transcript: (disclaimer: may contain unintentionally confusing, in...</td>\n",
       "      <td>The patent developed by Hedy Lamarr, along with George Antheil, wa...</td>\n",
       "      <td>The patent developed by Hedy Lamarr was for frequency-hopping spre...</td>\n",
       "      <td>✔️ [0.444]</td>\n",
       "    </tr>\n",
       "    <tr>\n",
       "      <th>3</th>\n",
       "      <td>Which was one of the first free email services?</td>\n",
       "      <td>Juno was one of the first free email services.</td>\n",
       "      <td>Transcript: (disclaimer: may contain unintentionally confusing, in...</td>\n",
       "      <td>The context mentions that within D. E. Shaw, Jeff Bezos and David ...</td>\n",
       "      <td>Juno</td>\n",
       "      <td>✔️ [1.000]</td>\n",
       "    </tr>\n",
       "    <tr>\n",
       "      <th>4</th>\n",
       "      <td>Visa is the global sponsor of what?</td>\n",
       "      <td>Visa is the global sponsor of The Olympics</td>\n",
       "      <td>Transcript: (disclaimer: may contain unintentionally confusing, in...</td>\n",
       "      <td>The context provided is a summary of a podcast episode discussing ...</td>\n",
       "      <td>Olympic Games and FIFA World Cup</td>\n",
       "      <td>✔️ [0.667]</td>\n",
       "    </tr>\n",
       "  </tbody>\n",
       "</table>\n",
       "</div>"
      ],
      "text/plain": [
       "                                                                question  \\\n",
       "0  During high school year, which online security community Jan Koum ...   \n",
       "1  What is the difference between recurrent neural networks and convo...   \n",
       "2        What was the patent Heddy developed? Was it publicly available?   \n",
       "3                        Which was one of the first free email services?   \n",
       "4                                    Visa is the global sponsor of what?   \n",
       "\n",
       "                                                        example_response  \\\n",
       "0                                                                 w00w00   \n",
       "1  The state of the art had evolved and RNN is sequential and has ver...   \n",
       "2  Hedy teams up with her new Hollywood neighbor, a music composer na...   \n",
       "3                         Juno was one of the first free email services.   \n",
       "4                             Visa is the global sponsor of The Olympics   \n",
       "\n",
       "                                                                 context  \\\n",
       "0  Transcript: (disclaimer: may contain unintentionally confusing, in...   \n",
       "1  Transcript: (disclaimer: may contain unintentionally confusing, in...   \n",
       "2  Transcript: (disclaimer: may contain unintentionally confusing, in...   \n",
       "3  Transcript: (disclaimer: may contain unintentionally confusing, in...   \n",
       "4  Transcript: (disclaimer: may contain unintentionally confusing, in...   \n",
       "\n",
       "                                                               reasoning  \\\n",
       "0  The context provided is a summary of a podcast episode discussing ...   \n",
       "1  Recurrent Neural Networks (RNNs) and Convolutional Neural Networks...   \n",
       "2  The patent developed by Hedy Lamarr, along with George Antheil, wa...   \n",
       "3  The context mentions that within D. E. Shaw, Jeff Bezos and David ...   \n",
       "4  The context provided is a summary of a podcast episode discussing ...   \n",
       "\n",
       "                                                           pred_response  \\\n",
       "0                                                                 w00w00   \n",
       "1  Recurrent Neural Networks (RNNs) are designed for sequential data ...   \n",
       "2  The patent developed by Hedy Lamarr was for frequency-hopping spre...   \n",
       "3                                                                   Juno   \n",
       "4                                       Olympic Games and FIFA World Cup   \n",
       "\n",
       "   SemanticF1  \n",
       "0  ✔️ [1.000]  \n",
       "1  ✔️ [0.286]  \n",
       "2  ✔️ [0.444]  \n",
       "3  ✔️ [1.000]  \n",
       "4  ✔️ [0.667]  "
      ]
     },
     "metadata": {},
     "output_type": "display_data"
    },
    {
     "data": {
      "text/html": [
       "\n",
       "            <div style='\n",
       "                text-align: center;\n",
       "                font-size: 16px;\n",
       "                font-weight: bold;\n",
       "                color: #555;\n",
       "                margin: 10px 0;'>\n",
       "                ... 35 more rows not displayed ...\n",
       "            </div>\n",
       "            "
      ],
      "text/plain": [
       "<IPython.core.display.HTML object>"
      ]
     },
     "metadata": {},
     "output_type": "display_data"
    },
    {
     "data": {
      "text/plain": [
       "48.84"
      ]
     },
     "execution_count": 57,
     "metadata": {},
     "output_type": "execute_result"
    }
   ],
   "source": [
    "run_evaluation(val, metric, optimized_summary_rag_pipeline)"
   ]
  },
  {
   "cell_type": "markdown",
   "id": "6994cd33-1158-4c3d-9eca-383ddd0d8c2e",
   "metadata": {},
   "source": [
    "## eval on test"
   ]
  },
  {
   "cell_type": "code",
   "execution_count": null,
   "id": "ac682965-623f-4b39-8cb3-698b9adbd20b",
   "metadata": {},
   "outputs": [],
   "source": []
  },
  {
   "cell_type": "code",
   "execution_count": 27,
   "id": "6117eb15-67da-48b4-b196-3d12370f8689",
   "metadata": {},
   "outputs": [
    {
     "name": "stdout",
     "output_type": "stream",
     "text": [
      "Average Metric: 16.71 / 40 (41.8%): 100%|████████████████████████████████████████████████████████████████████████████████████████████████| 40/40 [00:00<00:00, 291.75it/s]"
     ]
    },
    {
     "name": "stderr",
     "output_type": "stream",
     "text": [
      "2025/03/26 21:25:08 INFO dspy.evaluate.evaluate: Average Metric: 16.710980063451217 / 40 (41.8%)\n"
     ]
    },
    {
     "name": "stdout",
     "output_type": "stream",
     "text": [
      "\n"
     ]
    },
    {
     "data": {
      "text/html": [
       "<div>\n",
       "<style scoped>\n",
       "    .dataframe tbody tr th:only-of-type {\n",
       "        vertical-align: middle;\n",
       "    }\n",
       "\n",
       "    .dataframe tbody tr th {\n",
       "        vertical-align: top;\n",
       "    }\n",
       "\n",
       "    .dataframe thead th {\n",
       "        text-align: right;\n",
       "    }\n",
       "</style>\n",
       "<table border=\"1\" class=\"dataframe\">\n",
       "  <thead>\n",
       "    <tr style=\"text-align: right;\">\n",
       "      <th></th>\n",
       "      <th>question</th>\n",
       "      <th>example_response</th>\n",
       "      <th>context</th>\n",
       "      <th>reasoning</th>\n",
       "      <th>pred_response</th>\n",
       "      <th>SemanticF1</th>\n",
       "    </tr>\n",
       "  </thead>\n",
       "  <tbody>\n",
       "    <tr>\n",
       "      <th>0</th>\n",
       "      <td>What was a key strength of Hiroshi Yamauchi? This is something tha...</td>\n",
       "      <td>Hiroshi Yamauchi was very good at spotting games that consumers wo...</td>\n",
       "      <td>Transcript: (disclaimer: may contain unintentionally confusing, in...</td>\n",
       "      <td>Hiroshi Yamauchi demonstrated a remarkable ability to identify and...</td>\n",
       "      <td>A key strength of Hiroshi Yamauchi was his exceptional ability to ...</td>\n",
       "      <td>✔️ [0.400]</td>\n",
       "    </tr>\n",
       "    <tr>\n",
       "      <th>1</th>\n",
       "      <td>How many hot dogs does Costco currently sell per year?</td>\n",
       "      <td>130 million</td>\n",
       "      <td>Transcript: (disclaimer: may contain unintentionally confusing, in...</td>\n",
       "      <td>In the provided context, it is mentioned that Costco sells 130 mil...</td>\n",
       "      <td>Costco currently sells 130 million hot dogs per year.</td>\n",
       "      <td>✔️ [1.000]</td>\n",
       "    </tr>\n",
       "    <tr>\n",
       "      <th>2</th>\n",
       "      <td>What historic event took investigative pressure off of Enron befor...</td>\n",
       "      <td>September 11th</td>\n",
       "      <td>Transcript: (disclaimer: may contain unintentionally confusing, in...</td>\n",
       "      <td>Enron's financial practices and potential fraudulent activities we...</td>\n",
       "      <td>The September 11, 2001 terrorist attacks took investigative pressu...</td>\n",
       "      <td>✔️ [0.500]</td>\n",
       "    </tr>\n",
       "    <tr>\n",
       "      <th>3</th>\n",
       "      <td>How is Jim Weber's strategic focus influence the revitalization of...</td>\n",
       "      <td>His leadership is pivotal in transforming Brooks Running from a st...</td>\n",
       "      <td>Transcript: (disclaimer: may contain unintentionally confusing, in...</td>\n",
       "      <td>Jim Weber's strategic focus played a crucial role in revitalizing ...</td>\n",
       "      <td>Jim Weber's strategic focus on performance running was instrumenta...</td>\n",
       "      <td>✔️ [0.545]</td>\n",
       "    </tr>\n",
       "    <tr>\n",
       "      <th>4</th>\n",
       "      <td>Why were patents developed by Heddy had 88 frequency hops ?</td>\n",
       "      <td>There were 88 frequency hops in their technical description of the...</td>\n",
       "      <td>Transcript: (disclaimer: may contain unintentionally confusing, in...</td>\n",
       "      <td>The patents developed by Hedy Lamarr and George Antheil for freque...</td>\n",
       "      <td>The patents developed by Hedy Lamarr and George Antheil had 88 fre...</td>\n",
       "      <td>✔️ [0.667]</td>\n",
       "    </tr>\n",
       "  </tbody>\n",
       "</table>\n",
       "</div>"
      ],
      "text/plain": [
       "                                                                question  \\\n",
       "0  What was a key strength of Hiroshi Yamauchi? This is something tha...   \n",
       "1                 How many hot dogs does Costco currently sell per year?   \n",
       "2  What historic event took investigative pressure off of Enron befor...   \n",
       "3  How is Jim Weber's strategic focus influence the revitalization of...   \n",
       "4            Why were patents developed by Heddy had 88 frequency hops ?   \n",
       "\n",
       "                                                        example_response  \\\n",
       "0  Hiroshi Yamauchi was very good at spotting games that consumers wo...   \n",
       "1                                                            130 million   \n",
       "2                                                         September 11th   \n",
       "3  His leadership is pivotal in transforming Brooks Running from a st...   \n",
       "4  There were 88 frequency hops in their technical description of the...   \n",
       "\n",
       "                                                                 context  \\\n",
       "0  Transcript: (disclaimer: may contain unintentionally confusing, in...   \n",
       "1  Transcript: (disclaimer: may contain unintentionally confusing, in...   \n",
       "2  Transcript: (disclaimer: may contain unintentionally confusing, in...   \n",
       "3  Transcript: (disclaimer: may contain unintentionally confusing, in...   \n",
       "4  Transcript: (disclaimer: may contain unintentionally confusing, in...   \n",
       "\n",
       "                                                               reasoning  \\\n",
       "0  Hiroshi Yamauchi demonstrated a remarkable ability to identify and...   \n",
       "1  In the provided context, it is mentioned that Costco sells 130 mil...   \n",
       "2  Enron's financial practices and potential fraudulent activities we...   \n",
       "3  Jim Weber's strategic focus played a crucial role in revitalizing ...   \n",
       "4  The patents developed by Hedy Lamarr and George Antheil for freque...   \n",
       "\n",
       "                                                           pred_response  \\\n",
       "0  A key strength of Hiroshi Yamauchi was his exceptional ability to ...   \n",
       "1                  Costco currently sells 130 million hot dogs per year.   \n",
       "2  The September 11, 2001 terrorist attacks took investigative pressu...   \n",
       "3  Jim Weber's strategic focus on performance running was instrumenta...   \n",
       "4  The patents developed by Hedy Lamarr and George Antheil had 88 fre...   \n",
       "\n",
       "   SemanticF1  \n",
       "0  ✔️ [0.400]  \n",
       "1  ✔️ [1.000]  \n",
       "2  ✔️ [0.500]  \n",
       "3  ✔️ [0.545]  \n",
       "4  ✔️ [0.667]  "
      ]
     },
     "metadata": {},
     "output_type": "display_data"
    },
    {
     "data": {
      "text/html": [
       "\n",
       "            <div style='\n",
       "                text-align: center;\n",
       "                font-size: 16px;\n",
       "                font-weight: bold;\n",
       "                color: #555;\n",
       "                margin: 10px 0;'>\n",
       "                ... 35 more rows not displayed ...\n",
       "            </div>\n",
       "            "
      ],
      "text/plain": [
       "<IPython.core.display.HTML object>"
      ]
     },
     "metadata": {},
     "output_type": "display_data"
    },
    {
     "data": {
      "text/plain": [
       "41.78"
      ]
     },
     "execution_count": 27,
     "metadata": {},
     "output_type": "execute_result"
    }
   ],
   "source": [
    "run_evaluation(test, metric, rag)"
   ]
  },
  {
   "cell_type": "code",
   "execution_count": 28,
   "id": "14f82f96-1c69-4d01-a4d2-5f7b80feb625",
   "metadata": {},
   "outputs": [
    {
     "name": "stdout",
     "output_type": "stream",
     "text": [
      "Average Metric: 19.79 / 40 (49.5%): 100%|████████████████████████████████████████████████████████████████████████████████████████████████| 40/40 [00:00<00:00, 216.66it/s]"
     ]
    },
    {
     "name": "stderr",
     "output_type": "stream",
     "text": [
      "2025/03/26 21:25:20 INFO dspy.evaluate.evaluate: Average Metric: 19.786147186147186 / 40 (49.5%)\n"
     ]
    },
    {
     "name": "stdout",
     "output_type": "stream",
     "text": [
      "\n"
     ]
    },
    {
     "data": {
      "text/html": [
       "<div>\n",
       "<style scoped>\n",
       "    .dataframe tbody tr th:only-of-type {\n",
       "        vertical-align: middle;\n",
       "    }\n",
       "\n",
       "    .dataframe tbody tr th {\n",
       "        vertical-align: top;\n",
       "    }\n",
       "\n",
       "    .dataframe thead th {\n",
       "        text-align: right;\n",
       "    }\n",
       "</style>\n",
       "<table border=\"1\" class=\"dataframe\">\n",
       "  <thead>\n",
       "    <tr style=\"text-align: right;\">\n",
       "      <th></th>\n",
       "      <th>question</th>\n",
       "      <th>example_response</th>\n",
       "      <th>context</th>\n",
       "      <th>reasoning</th>\n",
       "      <th>pred_response</th>\n",
       "      <th>SemanticF1</th>\n",
       "    </tr>\n",
       "  </thead>\n",
       "  <tbody>\n",
       "    <tr>\n",
       "      <th>0</th>\n",
       "      <td>What was a key strength of Hiroshi Yamauchi? This is something tha...</td>\n",
       "      <td>Hiroshi Yamauchi was very good at spotting games that consumers wo...</td>\n",
       "      <td>Transcript: (disclaimer: may contain unintentionally confusing, in...</td>\n",
       "      <td>Not supplied for this particular example.</td>\n",
       "      <td>Hiroshi Yamauchi had an incredible eye for identifying fun and suc...</td>\n",
       "      <td>✔️ [0.500]</td>\n",
       "    </tr>\n",
       "    <tr>\n",
       "      <th>1</th>\n",
       "      <td>How many hot dogs does Costco currently sell per year?</td>\n",
       "      <td>130 million</td>\n",
       "      <td>Transcript: (disclaimer: may contain unintentionally confusing, in...</td>\n",
       "      <td>The context provides information about Costco's operations and som...</td>\n",
       "      <td>130 million</td>\n",
       "      <td>✔️ [1.000]</td>\n",
       "    </tr>\n",
       "    <tr>\n",
       "      <th>2</th>\n",
       "      <td>What historic event took investigative pressure off of Enron befor...</td>\n",
       "      <td>September 11th</td>\n",
       "      <td>Transcript: (disclaimer: may contain unintentionally confusing, in...</td>\n",
       "      <td>Not supplied for this particular example.</td>\n",
       "      <td>The September 11 attacks</td>\n",
       "      <td>✔️ [1.000]</td>\n",
       "    </tr>\n",
       "    <tr>\n",
       "      <th>3</th>\n",
       "      <td>How is Jim Weber's strategic focus influence the revitalization of...</td>\n",
       "      <td>His leadership is pivotal in transforming Brooks Running from a st...</td>\n",
       "      <td>Transcript: (disclaimer: may contain unintentionally confusing, in...</td>\n",
       "      <td>Jim Weber's strategic focus on revitalizing Brooks Running involve...</td>\n",
       "      <td>Jim Weber's strategic focus on serving active runners exclusively ...</td>\n",
       "      <td>✔️ [0.364]</td>\n",
       "    </tr>\n",
       "    <tr>\n",
       "      <th>4</th>\n",
       "      <td>Why were patents developed by Heddy had 88 frequency hops ?</td>\n",
       "      <td>There were 88 frequency hops in their technical description of the...</td>\n",
       "      <td>Transcript: (disclaimer: may contain unintentionally confusing, in...</td>\n",
       "      <td>The patents developed by Hedy Lamarr and George Antheil for freque...</td>\n",
       "      <td>The patents had 88 frequency hops because they were based on the 8...</td>\n",
       "      <td>✔️ [0.333]</td>\n",
       "    </tr>\n",
       "  </tbody>\n",
       "</table>\n",
       "</div>"
      ],
      "text/plain": [
       "                                                                question  \\\n",
       "0  What was a key strength of Hiroshi Yamauchi? This is something tha...   \n",
       "1                 How many hot dogs does Costco currently sell per year?   \n",
       "2  What historic event took investigative pressure off of Enron befor...   \n",
       "3  How is Jim Weber's strategic focus influence the revitalization of...   \n",
       "4            Why were patents developed by Heddy had 88 frequency hops ?   \n",
       "\n",
       "                                                        example_response  \\\n",
       "0  Hiroshi Yamauchi was very good at spotting games that consumers wo...   \n",
       "1                                                            130 million   \n",
       "2                                                         September 11th   \n",
       "3  His leadership is pivotal in transforming Brooks Running from a st...   \n",
       "4  There were 88 frequency hops in their technical description of the...   \n",
       "\n",
       "                                                                 context  \\\n",
       "0  Transcript: (disclaimer: may contain unintentionally confusing, in...   \n",
       "1  Transcript: (disclaimer: may contain unintentionally confusing, in...   \n",
       "2  Transcript: (disclaimer: may contain unintentionally confusing, in...   \n",
       "3  Transcript: (disclaimer: may contain unintentionally confusing, in...   \n",
       "4  Transcript: (disclaimer: may contain unintentionally confusing, in...   \n",
       "\n",
       "                                                               reasoning  \\\n",
       "0                              Not supplied for this particular example.   \n",
       "1  The context provides information about Costco's operations and som...   \n",
       "2                              Not supplied for this particular example.   \n",
       "3  Jim Weber's strategic focus on revitalizing Brooks Running involve...   \n",
       "4  The patents developed by Hedy Lamarr and George Antheil for freque...   \n",
       "\n",
       "                                                           pred_response  \\\n",
       "0  Hiroshi Yamauchi had an incredible eye for identifying fun and suc...   \n",
       "1                                                            130 million   \n",
       "2                                               The September 11 attacks   \n",
       "3  Jim Weber's strategic focus on serving active runners exclusively ...   \n",
       "4  The patents had 88 frequency hops because they were based on the 8...   \n",
       "\n",
       "   SemanticF1  \n",
       "0  ✔️ [0.500]  \n",
       "1  ✔️ [1.000]  \n",
       "2  ✔️ [1.000]  \n",
       "3  ✔️ [0.364]  \n",
       "4  ✔️ [0.333]  "
      ]
     },
     "metadata": {},
     "output_type": "display_data"
    },
    {
     "data": {
      "text/html": [
       "\n",
       "            <div style='\n",
       "                text-align: center;\n",
       "                font-size: 16px;\n",
       "                font-weight: bold;\n",
       "                color: #555;\n",
       "                margin: 10px 0;'>\n",
       "                ... 35 more rows not displayed ...\n",
       "            </div>\n",
       "            "
      ],
      "text/plain": [
       "<IPython.core.display.HTML object>"
      ]
     },
     "metadata": {},
     "output_type": "display_data"
    },
    {
     "data": {
      "text/plain": [
       "49.47"
      ]
     },
     "execution_count": 28,
     "metadata": {},
     "output_type": "execute_result"
    }
   ],
   "source": [
    "run_evaluation(test, metric, optimized_rag_pipeline)"
   ]
  },
  {
   "cell_type": "code",
   "execution_count": 395,
   "id": "561e99f3-e3c0-4973-937f-0c621e6eb599",
   "metadata": {},
   "outputs": [
    {
     "name": "stdout",
     "output_type": "stream",
     "text": [
      "Average Metric: 19.79 / 40 (49.5%): 100%|█████████████████████████████████████████████████████████████████████████████████████████████████| 40/40 [01:01<00:00,  1.53s/it]"
     ]
    },
    {
     "name": "stderr",
     "output_type": "stream",
     "text": [
      "2025/03/25 21:06:11 INFO dspy.evaluate.evaluate: Average Metric: 19.786147186147186 / 40 (49.5%)\n"
     ]
    },
    {
     "name": "stdout",
     "output_type": "stream",
     "text": [
      "\n"
     ]
    },
    {
     "data": {
      "text/html": [
       "<div>\n",
       "<style scoped>\n",
       "    .dataframe tbody tr th:only-of-type {\n",
       "        vertical-align: middle;\n",
       "    }\n",
       "\n",
       "    .dataframe tbody tr th {\n",
       "        vertical-align: top;\n",
       "    }\n",
       "\n",
       "    .dataframe thead th {\n",
       "        text-align: right;\n",
       "    }\n",
       "</style>\n",
       "<table border=\"1\" class=\"dataframe\">\n",
       "  <thead>\n",
       "    <tr style=\"text-align: right;\">\n",
       "      <th></th>\n",
       "      <th>question</th>\n",
       "      <th>example_response</th>\n",
       "      <th>context</th>\n",
       "      <th>reasoning</th>\n",
       "      <th>pred_response</th>\n",
       "      <th>SemanticF1</th>\n",
       "    </tr>\n",
       "  </thead>\n",
       "  <tbody>\n",
       "    <tr>\n",
       "      <th>0</th>\n",
       "      <td>What was a key strength of Hiroshi Yamauchi? This is something tha...</td>\n",
       "      <td>Hiroshi Yamauchi was very good at spotting games that consumers wo...</td>\n",
       "      <td>Transcript: (disclaimer: may contain unintentionally confusing, in...</td>\n",
       "      <td>Not supplied for this particular example.</td>\n",
       "      <td>Hiroshi Yamauchi had an incredible eye for identifying fun and suc...</td>\n",
       "      <td>✔️ [0.500]</td>\n",
       "    </tr>\n",
       "    <tr>\n",
       "      <th>1</th>\n",
       "      <td>How many hot dogs does Costco currently sell per year?</td>\n",
       "      <td>130 million</td>\n",
       "      <td>Transcript: (disclaimer: may contain unintentionally confusing, in...</td>\n",
       "      <td>The context provides information about Costco's operations and som...</td>\n",
       "      <td>130 million</td>\n",
       "      <td>✔️ [1.000]</td>\n",
       "    </tr>\n",
       "    <tr>\n",
       "      <th>2</th>\n",
       "      <td>What historic event took investigative pressure off of Enron befor...</td>\n",
       "      <td>September 11th</td>\n",
       "      <td>Transcript: (disclaimer: may contain unintentionally confusing, in...</td>\n",
       "      <td>Not supplied for this particular example.</td>\n",
       "      <td>The September 11 attacks</td>\n",
       "      <td>✔️ [1.000]</td>\n",
       "    </tr>\n",
       "    <tr>\n",
       "      <th>3</th>\n",
       "      <td>How is Jim Weber's strategic focus influence the revitalization of...</td>\n",
       "      <td>His leadership is pivotal in transforming Brooks Running from a st...</td>\n",
       "      <td>Transcript: (disclaimer: may contain unintentionally confusing, in...</td>\n",
       "      <td>Jim Weber's strategic focus on revitalizing Brooks Running involve...</td>\n",
       "      <td>Jim Weber's strategic focus on serving active runners exclusively ...</td>\n",
       "      <td>✔️ [0.364]</td>\n",
       "    </tr>\n",
       "    <tr>\n",
       "      <th>4</th>\n",
       "      <td>Why were patents developed by Heddy had 88 frequency hops ?</td>\n",
       "      <td>There were 88 frequency hops in their technical description of the...</td>\n",
       "      <td>Transcript: (disclaimer: may contain unintentionally confusing, in...</td>\n",
       "      <td>The patents developed by Hedy Lamarr and George Antheil for freque...</td>\n",
       "      <td>The patents had 88 frequency hops because they were based on the 8...</td>\n",
       "      <td>✔️ [0.333]</td>\n",
       "    </tr>\n",
       "  </tbody>\n",
       "</table>\n",
       "</div>"
      ],
      "text/plain": [
       "                                                                question  \\\n",
       "0  What was a key strength of Hiroshi Yamauchi? This is something tha...   \n",
       "1                 How many hot dogs does Costco currently sell per year?   \n",
       "2  What historic event took investigative pressure off of Enron befor...   \n",
       "3  How is Jim Weber's strategic focus influence the revitalization of...   \n",
       "4            Why were patents developed by Heddy had 88 frequency hops ?   \n",
       "\n",
       "                                                        example_response  \\\n",
       "0  Hiroshi Yamauchi was very good at spotting games that consumers wo...   \n",
       "1                                                            130 million   \n",
       "2                                                         September 11th   \n",
       "3  His leadership is pivotal in transforming Brooks Running from a st...   \n",
       "4  There were 88 frequency hops in their technical description of the...   \n",
       "\n",
       "                                                                 context  \\\n",
       "0  Transcript: (disclaimer: may contain unintentionally confusing, in...   \n",
       "1  Transcript: (disclaimer: may contain unintentionally confusing, in...   \n",
       "2  Transcript: (disclaimer: may contain unintentionally confusing, in...   \n",
       "3  Transcript: (disclaimer: may contain unintentionally confusing, in...   \n",
       "4  Transcript: (disclaimer: may contain unintentionally confusing, in...   \n",
       "\n",
       "                                                               reasoning  \\\n",
       "0                              Not supplied for this particular example.   \n",
       "1  The context provides information about Costco's operations and som...   \n",
       "2                              Not supplied for this particular example.   \n",
       "3  Jim Weber's strategic focus on revitalizing Brooks Running involve...   \n",
       "4  The patents developed by Hedy Lamarr and George Antheil for freque...   \n",
       "\n",
       "                                                           pred_response  \\\n",
       "0  Hiroshi Yamauchi had an incredible eye for identifying fun and suc...   \n",
       "1                                                            130 million   \n",
       "2                                               The September 11 attacks   \n",
       "3  Jim Weber's strategic focus on serving active runners exclusively ...   \n",
       "4  The patents had 88 frequency hops because they were based on the 8...   \n",
       "\n",
       "   SemanticF1  \n",
       "0  ✔️ [0.500]  \n",
       "1  ✔️ [1.000]  \n",
       "2  ✔️ [1.000]  \n",
       "3  ✔️ [0.364]  \n",
       "4  ✔️ [0.333]  "
      ]
     },
     "metadata": {},
     "output_type": "display_data"
    },
    {
     "data": {
      "text/html": [
       "\n",
       "            <div style='\n",
       "                text-align: center;\n",
       "                font-size: 16px;\n",
       "                font-weight: bold;\n",
       "                color: #555;\n",
       "                margin: 10px 0;'>\n",
       "                ... 35 more rows not displayed ...\n",
       "            </div>\n",
       "            "
      ],
      "text/plain": [
       "<IPython.core.display.HTML object>"
      ]
     },
     "metadata": {},
     "output_type": "display_data"
    },
    {
     "data": {
      "text/plain": [
       "49.47"
      ]
     },
     "execution_count": 395,
     "metadata": {},
     "output_type": "execute_result"
    }
   ],
   "source": [
    "evaluate(optimized_rag_pipeline)"
   ]
  },
  {
   "cell_type": "markdown",
   "id": "a7cfe78e-fae4-4d49-929c-2e2fb6bdf57b",
   "metadata": {},
   "source": [
    "## "
   ]
  }
 ],
 "metadata": {
  "kernelspec": {
   "display_name": "Python 3 (ipykernel)",
   "language": "python",
   "name": "python3"
  },
  "language_info": {
   "codemirror_mode": {
    "name": "ipython",
    "version": 3
   },
   "file_extension": ".py",
   "mimetype": "text/x-python",
   "name": "python",
   "nbconvert_exporter": "python",
   "pygments_lexer": "ipython3",
   "version": "3.10.16"
  }
 },
 "nbformat": 4,
 "nbformat_minor": 5
}
